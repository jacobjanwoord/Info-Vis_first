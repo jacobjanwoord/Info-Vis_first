{
 "cells": [
  {
   "attachments": {},
   "cell_type": "markdown",
   "metadata": {},
   "source": [
    "# This is a title!"
   ]
  },
  {
   "cell_type": "code",
   "execution_count": 1,
   "metadata": {},
   "outputs": [
    {
     "ename": "NameError",
     "evalue": "name 'pd' is not defined",
     "output_type": "error",
     "traceback": [
      "\u001b[1;31m---------------------------------------------------------------------------\u001b[0m",
      "\u001b[1;31mNameError\u001b[0m                                 Traceback (most recent call last)",
      "Cell \u001b[1;32mIn[1], line 1\u001b[0m\n\u001b[1;32m----> 1\u001b[0m hotel_data \u001b[38;5;241m=\u001b[39m \u001b[43mpd\u001b[49m\u001b[38;5;241m.\u001b[39mread_table(\u001b[38;5;124m\"\u001b[39m\u001b[38;5;124mhotel_booking.csv\u001b[39m\u001b[38;5;124m\"\u001b[39m, delimiter\u001b[38;5;241m=\u001b[39m\u001b[38;5;124m\"\u001b[39m\u001b[38;5;124m;\u001b[39m\u001b[38;5;124m\"\u001b[39m)\n\u001b[0;32m      2\u001b[0m \u001b[38;5;28mprint\u001b[39m(hotel_data\u001b[38;5;241m.\u001b[39mhead())\n",
      "\u001b[1;31mNameError\u001b[0m: name 'pd' is not defined"
     ]
    }
   ],
   "source": [
    "hotel_data = pd.read_table(\"hotel_booking.csv\", delimiter=\";\")\n",
    "print(hotel_data.head())"
   ]
  },
  {
   "cell_type": "code",
   "execution_count": 10,
   "metadata": {},
   "outputs": [
    {
     "name": "stdout",
     "output_type": "stream",
     "text": [
      "         Country             Region  Population  Area(sq.mi.)  \\\n",
      "0    Afghanistan  ASIA(EX.NEAREAST)    31056997        647500   \n",
      "1        Albania      EASTERNEUROPE     3581655         28748   \n",
      "2        Algeria     NORTHERNAFRICA    32930091       2381740   \n",
      "3  AmericanSamoa            OCEANIA       57794           199   \n",
      "4        Andorra      WESTERNEUROPE       71201           468   \n",
      "\n",
      "   Pop.Density(persq.mi.)  Coastline(coast/arearatio)  Netmigration  \\\n",
      "0                    48.0                        0.00         23.06   \n",
      "1                   124.6                        1.26         -4.93   \n",
      "2                    13.8                        0.04         -0.39   \n",
      "3                   290.4                       58.29        -20.71   \n",
      "4                   152.1                        0.00          6.60   \n",
      "\n",
      "   Infantmortality(per1000births)  GDP($percapita)  Literacy(%)  \\\n",
      "0                          163.07            700.0         36.0   \n",
      "1                           21.52           4500.0         86.5   \n",
      "2                           31.00           6000.0         70.0   \n",
      "3                            9.27           8000.0         97.0   \n",
      "4                            4.05          19000.0        100.0   \n",
      "\n",
      "   Phones(per1000)  Arable(%)  Crops(%)  Other(%)  Climate  Birthrate  \\\n",
      "0              3.2      12.13      0.22     87.65      1.0      46.60   \n",
      "1             71.2      21.09      4.42     74.49      3.0      15.11   \n",
      "2             78.1       3.22      0.25     96.53      1.0      17.14   \n",
      "3            259.5      10.00     15.00     75.00      2.0      22.46   \n",
      "4            497.2       2.22      0.00     97.78      3.0       8.71   \n",
      "\n",
      "   Deathrate  Agriculture  Industry   Service  \n",
      "0      20.34        0.380     0.240  0.380000  \n",
      "1       5.22        0.232     0.188  0.579000  \n",
      "2       4.61        0.101     0.600  0.298000  \n",
      "3       3.27          NaN       NaN  0.564956  \n",
      "4       6.25          NaN       NaN  0.560000  \n"
     ]
    }
   ],
   "source": [
    "country_data = pd.read_table(\"countries-of-the-world.csv\", delimiter=\",\")\n",
    "print(country_data.head())"
   ]
  },
  {
   "cell_type": "code",
   "execution_count": 11,
   "metadata": {},
   "outputs": [
    {
     "name": "stdout",
     "output_type": "stream",
     "text": [
      "   index  Activity Period Operating Airline Operating Airline IATA Code  \\\n",
      "0      0           200507      ATA Airlines                          TZ   \n",
      "1      1           200507      ATA Airlines                          TZ   \n",
      "2      2           200507      ATA Airlines                          TZ   \n",
      "3      3           200507       Air Canada                           AC   \n",
      "4      4           200507       Air Canada                           AC   \n",
      "\n",
      "  Published Airline Published Airline IATA Code    GEO Summary GEO Region  \\\n",
      "0      ATA Airlines                          TZ       Domestic         US   \n",
      "1      ATA Airlines                          TZ       Domestic         US   \n",
      "2      ATA Airlines                          TZ       Domestic         US   \n",
      "3       Air Canada                           AC  International     Canada   \n",
      "4       Air Canada                           AC  International     Canada   \n",
      "\n",
      "  Activity Type Code Price Category Code    Terminal Boarding Area  \\\n",
      "0           Deplaned            Low Fare  Terminal 1             B   \n",
      "1           Enplaned            Low Fare  Terminal 1             B   \n",
      "2     Thru / Transit            Low Fare  Terminal 1             B   \n",
      "3           Deplaned               Other  Terminal 1             B   \n",
      "4           Enplaned               Other  Terminal 1             B   \n",
      "\n",
      "   Passenger Count Adjusted Activity Type Code  Adjusted Passenger Count  \\\n",
      "0            27271                    Deplaned                     27271   \n",
      "1            29131                    Enplaned                     29131   \n",
      "2             5415          Thru / Transit * 2                     10830   \n",
      "3            35156                    Deplaned                     35156   \n",
      "4            34090                    Enplaned                     34090   \n",
      "\n",
      "   Year Month  \n",
      "0  2005  July  \n",
      "1  2005  July  \n",
      "2  2005  July  \n",
      "3  2005  July  \n",
      "4  2005  July  \n"
     ]
    }
   ],
   "source": [
    "air_data = pd.read_table(\"Air_Traffic_Passenger_Statistics.csv\", delimiter=\";\")\n",
    "print(air_data.head())"
   ]
  },
  {
   "cell_type": "code",
   "execution_count": 7,
   "metadata": {},
   "outputs": [],
   "source": [
    "grouped_hotel_month = hotel_data.groupby(\"arrival_date_month\")\n",
    "\n",
    "aggregate_hotel_month = grouped_hotel_month.aggregate({\n",
    "    'is_canceled': 'mean',\n",
    "    'lead_time': 'mean',\n",
    "    'is_repeated_guest': 'mean',\n",
    "    'previous_cancellations': 'mean',\n",
    "    'previous_bookings_not_canceled': 'mean',\n",
    "    'booking_changes': 'mean',\n",
    "    'stays_in_weekend_nights': 'mean',\n",
    "    'stays_in_week_nights': 'mean',\n",
    "    'adults': 'mean',\n",
    "    'children': 'mean',\n",
    "    'babies': 'mean',\n",
    "    'adr': 'mean',\n",
    "    'required_car_parking_spaces': 'mean',\n",
    "    'required_car_parking_spaces': 'mean'\n",
    "})\n",
    "\n",
    "grouped_air_month = air_data.groupby(\"Month\")\n",
    "\n",
    "aggregate_air_month = grouped_air_month.aggregate({\n",
    "    'Passenger Count': 'mean',\n",
    "    'Adjusted Passenger Count': 'mean'\n",
    "})"
   ]
  },
  {
   "cell_type": "code",
   "execution_count": 12,
   "metadata": {},
   "outputs": [
    {
     "name": "stdout",
     "output_type": "stream",
     "text": [
      "Index(['Country', 'Region', 'Population', 'Area(sq.mi.)',\n",
      "       'Pop.Density(persq.mi.)', 'Coastline(coast/arearatio)', 'Netmigration',\n",
      "       'Infantmortality(per1000births)', 'GDP($percapita)', 'Literacy(%)',\n",
      "       'Phones(per1000)', 'Arable(%)', 'Crops(%)', 'Other(%)', 'Climate',\n",
      "       'Birthrate', 'Deathrate', 'Agriculture', 'Industry', 'Service'],\n",
      "      dtype='object')\n"
     ]
    }
   ],
   "source": [
    "# pd.concat([d.query('Col2 > .8').Col1 for d in dfs], keys=range(len(dfs)))\n",
    "\n",
    "# concat = pd.concat([d.query('Col3 = ') for d in aggregate])\n",
    "print(country_data.columns)\n",
    "concat = aggregate.merge(country_data, left_on='country', right_on='Country')    \n",
    "\n",
    "concat.to_csv('concat_output_hotel.csv')"
   ]
  },
  {
   "cell_type": "code",
   "execution_count": 9,
   "metadata": {},
   "outputs": [
    {
     "ename": "ValueError",
     "evalue": "could not convert string to float: 'Aruba'",
     "output_type": "error",
     "traceback": [
      "\u001b[1;31m---------------------------------------------------------------------------\u001b[0m",
      "\u001b[1;31mValueError\u001b[0m                                Traceback (most recent call last)",
      "Cell \u001b[1;32mIn[9], line 1\u001b[0m\n\u001b[1;32m----> 1\u001b[0m \u001b[39mprint\u001b[39m(concat\u001b[39m.\u001b[39;49mcorr())\n",
      "File \u001b[1;32mc:\\Users\\jacob\\.conda\\envs\\jupyterbook\\lib\\site-packages\\pandas\\core\\frame.py:10054\u001b[0m, in \u001b[0;36mDataFrame.corr\u001b[1;34m(self, method, min_periods, numeric_only)\u001b[0m\n\u001b[0;32m  10052\u001b[0m cols \u001b[39m=\u001b[39m data\u001b[39m.\u001b[39mcolumns\n\u001b[0;32m  10053\u001b[0m idx \u001b[39m=\u001b[39m cols\u001b[39m.\u001b[39mcopy()\n\u001b[1;32m> 10054\u001b[0m mat \u001b[39m=\u001b[39m data\u001b[39m.\u001b[39;49mto_numpy(dtype\u001b[39m=\u001b[39;49m\u001b[39mfloat\u001b[39;49m, na_value\u001b[39m=\u001b[39;49mnp\u001b[39m.\u001b[39;49mnan, copy\u001b[39m=\u001b[39;49m\u001b[39mFalse\u001b[39;49;00m)\n\u001b[0;32m  10056\u001b[0m \u001b[39mif\u001b[39;00m method \u001b[39m==\u001b[39m \u001b[39m\"\u001b[39m\u001b[39mpearson\u001b[39m\u001b[39m\"\u001b[39m:\n\u001b[0;32m  10057\u001b[0m     correl \u001b[39m=\u001b[39m libalgos\u001b[39m.\u001b[39mnancorr(mat, minp\u001b[39m=\u001b[39mmin_periods)\n",
      "File \u001b[1;32mc:\\Users\\jacob\\.conda\\envs\\jupyterbook\\lib\\site-packages\\pandas\\core\\frame.py:1838\u001b[0m, in \u001b[0;36mDataFrame.to_numpy\u001b[1;34m(self, dtype, copy, na_value)\u001b[0m\n\u001b[0;32m   1836\u001b[0m \u001b[39mif\u001b[39;00m dtype \u001b[39mis\u001b[39;00m \u001b[39mnot\u001b[39;00m \u001b[39mNone\u001b[39;00m:\n\u001b[0;32m   1837\u001b[0m     dtype \u001b[39m=\u001b[39m np\u001b[39m.\u001b[39mdtype(dtype)\n\u001b[1;32m-> 1838\u001b[0m result \u001b[39m=\u001b[39m \u001b[39mself\u001b[39;49m\u001b[39m.\u001b[39;49m_mgr\u001b[39m.\u001b[39;49mas_array(dtype\u001b[39m=\u001b[39;49mdtype, copy\u001b[39m=\u001b[39;49mcopy, na_value\u001b[39m=\u001b[39;49mna_value)\n\u001b[0;32m   1839\u001b[0m \u001b[39mif\u001b[39;00m result\u001b[39m.\u001b[39mdtype \u001b[39mis\u001b[39;00m \u001b[39mnot\u001b[39;00m dtype:\n\u001b[0;32m   1840\u001b[0m     result \u001b[39m=\u001b[39m np\u001b[39m.\u001b[39marray(result, dtype\u001b[39m=\u001b[39mdtype, copy\u001b[39m=\u001b[39m\u001b[39mFalse\u001b[39;00m)\n",
      "File \u001b[1;32mc:\\Users\\jacob\\.conda\\envs\\jupyterbook\\lib\\site-packages\\pandas\\core\\internals\\managers.py:1732\u001b[0m, in \u001b[0;36mBlockManager.as_array\u001b[1;34m(self, dtype, copy, na_value)\u001b[0m\n\u001b[0;32m   1730\u001b[0m         arr\u001b[39m.\u001b[39mflags\u001b[39m.\u001b[39mwriteable \u001b[39m=\u001b[39m \u001b[39mFalse\u001b[39;00m\n\u001b[0;32m   1731\u001b[0m \u001b[39melse\u001b[39;00m:\n\u001b[1;32m-> 1732\u001b[0m     arr \u001b[39m=\u001b[39m \u001b[39mself\u001b[39;49m\u001b[39m.\u001b[39;49m_interleave(dtype\u001b[39m=\u001b[39;49mdtype, na_value\u001b[39m=\u001b[39;49mna_value)\n\u001b[0;32m   1733\u001b[0m     \u001b[39m# The underlying data was copied within _interleave, so no need\u001b[39;00m\n\u001b[0;32m   1734\u001b[0m     \u001b[39m# to further copy if copy=True or setting na_value\u001b[39;00m\n\u001b[0;32m   1736\u001b[0m \u001b[39mif\u001b[39;00m na_value \u001b[39mis\u001b[39;00m \u001b[39mnot\u001b[39;00m lib\u001b[39m.\u001b[39mno_default:\n",
      "File \u001b[1;32mc:\\Users\\jacob\\.conda\\envs\\jupyterbook\\lib\\site-packages\\pandas\\core\\internals\\managers.py:1794\u001b[0m, in \u001b[0;36mBlockManager._interleave\u001b[1;34m(self, dtype, na_value)\u001b[0m\n\u001b[0;32m   1792\u001b[0m     \u001b[39melse\u001b[39;00m:\n\u001b[0;32m   1793\u001b[0m         arr \u001b[39m=\u001b[39m blk\u001b[39m.\u001b[39mget_values(dtype)\n\u001b[1;32m-> 1794\u001b[0m     result[rl\u001b[39m.\u001b[39;49mindexer] \u001b[39m=\u001b[39m arr\n\u001b[0;32m   1795\u001b[0m     itemmask[rl\u001b[39m.\u001b[39mindexer] \u001b[39m=\u001b[39m \u001b[39m1\u001b[39m\n\u001b[0;32m   1797\u001b[0m \u001b[39mif\u001b[39;00m \u001b[39mnot\u001b[39;00m itemmask\u001b[39m.\u001b[39mall():\n",
      "\u001b[1;31mValueError\u001b[0m: could not convert string to float: 'Aruba'"
     ]
    }
   ],
   "source": [
    "print(concat.corr())"
   ]
  },
  {
   "cell_type": "code",
   "execution_count": null,
   "metadata": {},
   "outputs": [
    {
     "name": "stdout",
     "output_type": "stream",
     "text": [
      "                                is_canceled  lead_time  is_repeated_guest  \\\n",
      "is_canceled                        1.000000   0.811308          -0.828496   \n",
      "lead_time                          0.811308   1.000000          -0.916600   \n",
      "is_repeated_guest                 -0.828496  -0.916600           1.000000   \n",
      "previous_cancellations             0.138441   0.354471          -0.260676   \n",
      "previous_bookings_not_canceled    -0.639536  -0.773557           0.911444   \n",
      "booking_changes                   -0.418069  -0.269223           0.186785   \n",
      "stays_in_weekend_nights            0.580017   0.713549          -0.772345   \n",
      "stays_in_week_nights               0.404774   0.644963          -0.693137   \n",
      "adults                             0.655268   0.710670          -0.806702   \n",
      "children                           0.248856   0.302142          -0.395589   \n",
      "babies                            -0.074464   0.110584          -0.147674   \n",
      "adr                                0.719670   0.819050          -0.843347   \n",
      "required_car_parking_spaces       -0.672759  -0.544901           0.583757   \n",
      "Passenger Count                    0.610009   0.814714          -0.764004   \n",
      "Adjusted Passenger Count           0.609675   0.814219          -0.763840   \n",
      "\n",
      "                                previous_cancellations  \\\n",
      "is_canceled                                   0.138441   \n",
      "lead_time                                     0.354471   \n",
      "is_repeated_guest                            -0.260676   \n",
      "previous_cancellations                        1.000000   \n",
      "previous_bookings_not_canceled               -0.381007   \n",
      "booking_changes                              -0.298646   \n",
      "stays_in_weekend_nights                       0.218675   \n",
      "stays_in_week_nights                         -0.041497   \n",
      "adults                                        0.173191   \n",
      "children                                     -0.098718   \n",
      "babies                                        0.185226   \n",
      "adr                                           0.055794   \n",
      "required_car_parking_spaces                  -0.144517   \n",
      "Passenger Count                              -0.073320   \n",
      "Adjusted Passenger Count                     -0.073226   \n",
      "\n",
      "                                previous_bookings_not_canceled  \\\n",
      "is_canceled                                          -0.639536   \n",
      "lead_time                                            -0.773557   \n",
      "is_repeated_guest                                     0.911444   \n",
      "previous_cancellations                               -0.381007   \n",
      "previous_bookings_not_canceled                        1.000000   \n",
      "booking_changes                                       0.173704   \n",
      "stays_in_weekend_nights                              -0.652245   \n",
      "stays_in_week_nights                                 -0.498265   \n",
      "adults                                               -0.692193   \n",
      "children                                             -0.304798   \n",
      "babies                                               -0.191707   \n",
      "adr                                                  -0.644910   \n",
      "required_car_parking_spaces                           0.543530   \n",
      "Passenger Count                                      -0.553782   \n",
      "Adjusted Passenger Count                             -0.553608   \n",
      "\n",
      "                                booking_changes  stays_in_weekend_nights  \\\n",
      "is_canceled                           -0.418069                 0.580017   \n",
      "lead_time                             -0.269223                 0.713549   \n",
      "is_repeated_guest                      0.186785                -0.772345   \n",
      "previous_cancellations                -0.298646                 0.218675   \n",
      "previous_bookings_not_canceled         0.173704                -0.652245   \n",
      "booking_changes                        1.000000                -0.020470   \n",
      "stays_in_weekend_nights               -0.020470                 1.000000   \n",
      "stays_in_week_nights                   0.182841                 0.796162   \n",
      "adults                                -0.039578                 0.967383   \n",
      "children                               0.312196                 0.828678   \n",
      "babies                                 0.522105                 0.457248   \n",
      "adr                                    0.042478                 0.878555   \n",
      "required_car_parking_spaces            0.708441                -0.103801   \n",
      "Passenger Count                        0.107050                 0.745510   \n",
      "Adjusted Passenger Count               0.106764                 0.746658   \n",
      "\n",
      "                                stays_in_week_nights    adults  children  \\\n",
      "is_canceled                                 0.404774  0.655268  0.248856   \n",
      "lead_time                                   0.644963  0.710670  0.302142   \n",
      "is_repeated_guest                          -0.693137 -0.806702 -0.395589   \n",
      "previous_cancellations                     -0.041497  0.173191 -0.098718   \n",
      "previous_bookings_not_canceled             -0.498265 -0.692193 -0.304798   \n",
      "booking_changes                             0.182841 -0.039578  0.312196   \n",
      "stays_in_weekend_nights                     0.796162  0.967383  0.828678   \n",
      "stays_in_week_nights                        1.000000  0.790573  0.676052   \n",
      "adults                                      0.790573  1.000000  0.819240   \n",
      "children                                    0.676052  0.819240  1.000000   \n",
      "babies                                      0.459915  0.497044  0.716265   \n",
      "adr                                         0.851587  0.902664  0.720525   \n",
      "required_car_parking_spaces                -0.056816 -0.179018  0.358663   \n",
      "Passenger Count                             0.854485  0.759298  0.566147   \n",
      "Adjusted Passenger Count                    0.854891  0.760300  0.567459   \n",
      "\n",
      "                                  babies       adr  \\\n",
      "is_canceled                    -0.074464  0.719670   \n",
      "lead_time                       0.110584  0.819050   \n",
      "is_repeated_guest              -0.147674 -0.843347   \n",
      "previous_cancellations          0.185226  0.055794   \n",
      "previous_bookings_not_canceled -0.191707 -0.644910   \n",
      "booking_changes                 0.522105  0.042478   \n",
      "stays_in_weekend_nights         0.457248  0.878555   \n",
      "stays_in_week_nights            0.459915  0.851587   \n",
      "adults                          0.497044  0.902664   \n",
      "children                        0.716265  0.720525   \n",
      "babies                          1.000000  0.435206   \n",
      "adr                             0.435206  1.000000   \n",
      "required_car_parking_spaces     0.580253 -0.225182   \n",
      "Passenger Count                 0.311911  0.865183   \n",
      "Adjusted Passenger Count        0.311941  0.865360   \n",
      "\n",
      "                                required_car_parking_spaces  Passenger Count  \\\n",
      "is_canceled                                       -0.672759         0.610009   \n",
      "lead_time                                         -0.544901         0.814714   \n",
      "is_repeated_guest                                  0.583757        -0.764004   \n",
      "previous_cancellations                            -0.144517        -0.073320   \n",
      "previous_bookings_not_canceled                     0.543530        -0.553782   \n",
      "booking_changes                                    0.708441         0.107050   \n",
      "stays_in_weekend_nights                           -0.103801         0.745510   \n",
      "stays_in_week_nights                              -0.056816         0.854485   \n",
      "adults                                            -0.179018         0.759298   \n",
      "children                                           0.358663         0.566147   \n",
      "babies                                             0.580253         0.311911   \n",
      "adr                                               -0.225182         0.865183   \n",
      "required_car_parking_spaces                        1.000000        -0.192366   \n",
      "Passenger Count                                   -0.192366         1.000000   \n",
      "Adjusted Passenger Count                          -0.191758         0.999995   \n",
      "\n",
      "                                Adjusted Passenger Count  \n",
      "is_canceled                                     0.609675  \n",
      "lead_time                                       0.814219  \n",
      "is_repeated_guest                              -0.763840  \n",
      "previous_cancellations                         -0.073226  \n",
      "previous_bookings_not_canceled                 -0.553608  \n",
      "booking_changes                                 0.106764  \n",
      "stays_in_weekend_nights                         0.746658  \n",
      "stays_in_week_nights                            0.854891  \n",
      "adults                                          0.760300  \n",
      "children                                        0.567459  \n",
      "babies                                          0.311941  \n",
      "adr                                             0.865360  \n",
      "required_car_parking_spaces                    -0.191758  \n",
      "Passenger Count                                 0.999995  \n",
      "Adjusted Passenger Count                        1.000000  \n"
     ]
    }
   ],
   "source": [
    "concat_air = aggregate_hotel_month.merge(aggregate_air_month, left_on='arrival_date_month', right_on='Month', how='left')\n",
    "\n",
    "concat_air.to_csv('concat_output_air.csv')\n",
    "\n",
    "print(concat_air.corr())"
   ]
  },
  {
   "cell_type": "code",
   "execution_count": null,
   "metadata": {},
   "outputs": [
    {
     "data": {
      "application/vnd.plotly.v1+json": {
       "config": {
        "plotlyServerURL": "https://plot.ly"
       },
       "data": [
        {
         "name": "Passenger Count",
         "type": "bar",
         "x": [
          0,
          1,
          2,
          3,
          4,
          5,
          6,
          7,
          8,
          9,
          10,
          11
         ],
         "xaxis": "x",
         "y": [
          28813.577893820715,
          32636.380916030535,
          28723.198570293884,
          24258.40796812749,
          26094.37066246057,
          32657.033768227167,
          31886.650887573964,
          29359.807661612133,
          30340.417235494882,
          27702.751385589865,
          29645.857915057913,
          28725.348496530456
         ],
         "yaxis": "y"
        },
        {
         "line": {
          "width": 4
         },
         "marker": {
          "size": 12
         },
         "name": "Stays in week nights",
         "type": "scatter",
         "x": [
          0,
          1,
          2,
          3,
          4,
          5,
          6,
          7,
          8,
          9,
          10,
          11
         ],
         "xaxis": "x",
         "y": [
          2.4181621426639013,
          2.836419975499027,
          2.3575221238938053,
          2.1779871095686665,
          2.1921065947039975,
          2.8055445857357237,
          2.6554529664503153,
          2.5606493771696957,
          2.4069205326096177,
          2.4040329702678833,
          2.2307347670250897,
          2.5243623905595736
         ],
         "yaxis": "y2"
        },
        {
         "line": {
          "width": 4
         },
         "marker": {
          "size": 12
         },
         "name": "Stays in weekend nights",
         "type": "scatter",
         "x": [
          0,
          1,
          2,
          3,
          4,
          5,
          6,
          7,
          8,
          9,
          10,
          11
         ],
         "xaxis": "x",
         "y": [
          0.9486878888989089,
          1.0604597535490379,
          0.8650442477876106,
          0.8531234506693108,
          0.7793894417271041,
          1.1202906563462602,
          0.9203766340616144,
          0.8586889932611803,
          0.8696463404291409,
          0.7851045039740948,
          0.8953405017921147,
          0.9420441568328892
         ],
         "yaxis": "y2"
        }
       ],
       "layout": {
        "template": {
         "data": {
          "bar": [
           {
            "error_x": {
             "color": "#2a3f5f"
            },
            "error_y": {
             "color": "#2a3f5f"
            },
            "marker": {
             "line": {
              "color": "#E5ECF6",
              "width": 0.5
             },
             "pattern": {
              "fillmode": "overlay",
              "size": 10,
              "solidity": 0.2
             }
            },
            "type": "bar"
           }
          ],
          "barpolar": [
           {
            "marker": {
             "line": {
              "color": "#E5ECF6",
              "width": 0.5
             },
             "pattern": {
              "fillmode": "overlay",
              "size": 10,
              "solidity": 0.2
             }
            },
            "type": "barpolar"
           }
          ],
          "carpet": [
           {
            "aaxis": {
             "endlinecolor": "#2a3f5f",
             "gridcolor": "white",
             "linecolor": "white",
             "minorgridcolor": "white",
             "startlinecolor": "#2a3f5f"
            },
            "baxis": {
             "endlinecolor": "#2a3f5f",
             "gridcolor": "white",
             "linecolor": "white",
             "minorgridcolor": "white",
             "startlinecolor": "#2a3f5f"
            },
            "type": "carpet"
           }
          ],
          "choropleth": [
           {
            "colorbar": {
             "outlinewidth": 0,
             "ticks": ""
            },
            "type": "choropleth"
           }
          ],
          "contour": [
           {
            "colorbar": {
             "outlinewidth": 0,
             "ticks": ""
            },
            "colorscale": [
             [
              0,
              "#0d0887"
             ],
             [
              0.1111111111111111,
              "#46039f"
             ],
             [
              0.2222222222222222,
              "#7201a8"
             ],
             [
              0.3333333333333333,
              "#9c179e"
             ],
             [
              0.4444444444444444,
              "#bd3786"
             ],
             [
              0.5555555555555556,
              "#d8576b"
             ],
             [
              0.6666666666666666,
              "#ed7953"
             ],
             [
              0.7777777777777778,
              "#fb9f3a"
             ],
             [
              0.8888888888888888,
              "#fdca26"
             ],
             [
              1,
              "#f0f921"
             ]
            ],
            "type": "contour"
           }
          ],
          "contourcarpet": [
           {
            "colorbar": {
             "outlinewidth": 0,
             "ticks": ""
            },
            "type": "contourcarpet"
           }
          ],
          "heatmap": [
           {
            "colorbar": {
             "outlinewidth": 0,
             "ticks": ""
            },
            "colorscale": [
             [
              0,
              "#0d0887"
             ],
             [
              0.1111111111111111,
              "#46039f"
             ],
             [
              0.2222222222222222,
              "#7201a8"
             ],
             [
              0.3333333333333333,
              "#9c179e"
             ],
             [
              0.4444444444444444,
              "#bd3786"
             ],
             [
              0.5555555555555556,
              "#d8576b"
             ],
             [
              0.6666666666666666,
              "#ed7953"
             ],
             [
              0.7777777777777778,
              "#fb9f3a"
             ],
             [
              0.8888888888888888,
              "#fdca26"
             ],
             [
              1,
              "#f0f921"
             ]
            ],
            "type": "heatmap"
           }
          ],
          "heatmapgl": [
           {
            "colorbar": {
             "outlinewidth": 0,
             "ticks": ""
            },
            "colorscale": [
             [
              0,
              "#0d0887"
             ],
             [
              0.1111111111111111,
              "#46039f"
             ],
             [
              0.2222222222222222,
              "#7201a8"
             ],
             [
              0.3333333333333333,
              "#9c179e"
             ],
             [
              0.4444444444444444,
              "#bd3786"
             ],
             [
              0.5555555555555556,
              "#d8576b"
             ],
             [
              0.6666666666666666,
              "#ed7953"
             ],
             [
              0.7777777777777778,
              "#fb9f3a"
             ],
             [
              0.8888888888888888,
              "#fdca26"
             ],
             [
              1,
              "#f0f921"
             ]
            ],
            "type": "heatmapgl"
           }
          ],
          "histogram": [
           {
            "marker": {
             "pattern": {
              "fillmode": "overlay",
              "size": 10,
              "solidity": 0.2
             }
            },
            "type": "histogram"
           }
          ],
          "histogram2d": [
           {
            "colorbar": {
             "outlinewidth": 0,
             "ticks": ""
            },
            "colorscale": [
             [
              0,
              "#0d0887"
             ],
             [
              0.1111111111111111,
              "#46039f"
             ],
             [
              0.2222222222222222,
              "#7201a8"
             ],
             [
              0.3333333333333333,
              "#9c179e"
             ],
             [
              0.4444444444444444,
              "#bd3786"
             ],
             [
              0.5555555555555556,
              "#d8576b"
             ],
             [
              0.6666666666666666,
              "#ed7953"
             ],
             [
              0.7777777777777778,
              "#fb9f3a"
             ],
             [
              0.8888888888888888,
              "#fdca26"
             ],
             [
              1,
              "#f0f921"
             ]
            ],
            "type": "histogram2d"
           }
          ],
          "histogram2dcontour": [
           {
            "colorbar": {
             "outlinewidth": 0,
             "ticks": ""
            },
            "colorscale": [
             [
              0,
              "#0d0887"
             ],
             [
              0.1111111111111111,
              "#46039f"
             ],
             [
              0.2222222222222222,
              "#7201a8"
             ],
             [
              0.3333333333333333,
              "#9c179e"
             ],
             [
              0.4444444444444444,
              "#bd3786"
             ],
             [
              0.5555555555555556,
              "#d8576b"
             ],
             [
              0.6666666666666666,
              "#ed7953"
             ],
             [
              0.7777777777777778,
              "#fb9f3a"
             ],
             [
              0.8888888888888888,
              "#fdca26"
             ],
             [
              1,
              "#f0f921"
             ]
            ],
            "type": "histogram2dcontour"
           }
          ],
          "mesh3d": [
           {
            "colorbar": {
             "outlinewidth": 0,
             "ticks": ""
            },
            "type": "mesh3d"
           }
          ],
          "parcoords": [
           {
            "line": {
             "colorbar": {
              "outlinewidth": 0,
              "ticks": ""
             }
            },
            "type": "parcoords"
           }
          ],
          "pie": [
           {
            "automargin": true,
            "type": "pie"
           }
          ],
          "scatter": [
           {
            "fillpattern": {
             "fillmode": "overlay",
             "size": 10,
             "solidity": 0.2
            },
            "type": "scatter"
           }
          ],
          "scatter3d": [
           {
            "line": {
             "colorbar": {
              "outlinewidth": 0,
              "ticks": ""
             }
            },
            "marker": {
             "colorbar": {
              "outlinewidth": 0,
              "ticks": ""
             }
            },
            "type": "scatter3d"
           }
          ],
          "scattercarpet": [
           {
            "marker": {
             "colorbar": {
              "outlinewidth": 0,
              "ticks": ""
             }
            },
            "type": "scattercarpet"
           }
          ],
          "scattergeo": [
           {
            "marker": {
             "colorbar": {
              "outlinewidth": 0,
              "ticks": ""
             }
            },
            "type": "scattergeo"
           }
          ],
          "scattergl": [
           {
            "marker": {
             "colorbar": {
              "outlinewidth": 0,
              "ticks": ""
             }
            },
            "type": "scattergl"
           }
          ],
          "scattermapbox": [
           {
            "marker": {
             "colorbar": {
              "outlinewidth": 0,
              "ticks": ""
             }
            },
            "type": "scattermapbox"
           }
          ],
          "scatterpolar": [
           {
            "marker": {
             "colorbar": {
              "outlinewidth": 0,
              "ticks": ""
             }
            },
            "type": "scatterpolar"
           }
          ],
          "scatterpolargl": [
           {
            "marker": {
             "colorbar": {
              "outlinewidth": 0,
              "ticks": ""
             }
            },
            "type": "scatterpolargl"
           }
          ],
          "scatterternary": [
           {
            "marker": {
             "colorbar": {
              "outlinewidth": 0,
              "ticks": ""
             }
            },
            "type": "scatterternary"
           }
          ],
          "surface": [
           {
            "colorbar": {
             "outlinewidth": 0,
             "ticks": ""
            },
            "colorscale": [
             [
              0,
              "#0d0887"
             ],
             [
              0.1111111111111111,
              "#46039f"
             ],
             [
              0.2222222222222222,
              "#7201a8"
             ],
             [
              0.3333333333333333,
              "#9c179e"
             ],
             [
              0.4444444444444444,
              "#bd3786"
             ],
             [
              0.5555555555555556,
              "#d8576b"
             ],
             [
              0.6666666666666666,
              "#ed7953"
             ],
             [
              0.7777777777777778,
              "#fb9f3a"
             ],
             [
              0.8888888888888888,
              "#fdca26"
             ],
             [
              1,
              "#f0f921"
             ]
            ],
            "type": "surface"
           }
          ],
          "table": [
           {
            "cells": {
             "fill": {
              "color": "#EBF0F8"
             },
             "line": {
              "color": "white"
             }
            },
            "header": {
             "fill": {
              "color": "#C8D4E3"
             },
             "line": {
              "color": "white"
             }
            },
            "type": "table"
           }
          ]
         },
         "layout": {
          "annotationdefaults": {
           "arrowcolor": "#2a3f5f",
           "arrowhead": 0,
           "arrowwidth": 1
          },
          "autotypenumbers": "strict",
          "coloraxis": {
           "colorbar": {
            "outlinewidth": 0,
            "ticks": ""
           }
          },
          "colorscale": {
           "diverging": [
            [
             0,
             "#8e0152"
            ],
            [
             0.1,
             "#c51b7d"
            ],
            [
             0.2,
             "#de77ae"
            ],
            [
             0.3,
             "#f1b6da"
            ],
            [
             0.4,
             "#fde0ef"
            ],
            [
             0.5,
             "#f7f7f7"
            ],
            [
             0.6,
             "#e6f5d0"
            ],
            [
             0.7,
             "#b8e186"
            ],
            [
             0.8,
             "#7fbc41"
            ],
            [
             0.9,
             "#4d9221"
            ],
            [
             1,
             "#276419"
            ]
           ],
           "sequential": [
            [
             0,
             "#0d0887"
            ],
            [
             0.1111111111111111,
             "#46039f"
            ],
            [
             0.2222222222222222,
             "#7201a8"
            ],
            [
             0.3333333333333333,
             "#9c179e"
            ],
            [
             0.4444444444444444,
             "#bd3786"
            ],
            [
             0.5555555555555556,
             "#d8576b"
            ],
            [
             0.6666666666666666,
             "#ed7953"
            ],
            [
             0.7777777777777778,
             "#fb9f3a"
            ],
            [
             0.8888888888888888,
             "#fdca26"
            ],
            [
             1,
             "#f0f921"
            ]
           ],
           "sequentialminus": [
            [
             0,
             "#0d0887"
            ],
            [
             0.1111111111111111,
             "#46039f"
            ],
            [
             0.2222222222222222,
             "#7201a8"
            ],
            [
             0.3333333333333333,
             "#9c179e"
            ],
            [
             0.4444444444444444,
             "#bd3786"
            ],
            [
             0.5555555555555556,
             "#d8576b"
            ],
            [
             0.6666666666666666,
             "#ed7953"
            ],
            [
             0.7777777777777778,
             "#fb9f3a"
            ],
            [
             0.8888888888888888,
             "#fdca26"
            ],
            [
             1,
             "#f0f921"
            ]
           ]
          },
          "colorway": [
           "#636efa",
           "#EF553B",
           "#00cc96",
           "#ab63fa",
           "#FFA15A",
           "#19d3f3",
           "#FF6692",
           "#B6E880",
           "#FF97FF",
           "#FECB52"
          ],
          "font": {
           "color": "#2a3f5f"
          },
          "geo": {
           "bgcolor": "white",
           "lakecolor": "white",
           "landcolor": "#E5ECF6",
           "showlakes": true,
           "showland": true,
           "subunitcolor": "white"
          },
          "hoverlabel": {
           "align": "left"
          },
          "hovermode": "closest",
          "mapbox": {
           "style": "light"
          },
          "paper_bgcolor": "white",
          "plot_bgcolor": "#E5ECF6",
          "polar": {
           "angularaxis": {
            "gridcolor": "white",
            "linecolor": "white",
            "ticks": ""
           },
           "bgcolor": "#E5ECF6",
           "radialaxis": {
            "gridcolor": "white",
            "linecolor": "white",
            "ticks": ""
           }
          },
          "scene": {
           "xaxis": {
            "backgroundcolor": "#E5ECF6",
            "gridcolor": "white",
            "gridwidth": 2,
            "linecolor": "white",
            "showbackground": true,
            "ticks": "",
            "zerolinecolor": "white"
           },
           "yaxis": {
            "backgroundcolor": "#E5ECF6",
            "gridcolor": "white",
            "gridwidth": 2,
            "linecolor": "white",
            "showbackground": true,
            "ticks": "",
            "zerolinecolor": "white"
           },
           "zaxis": {
            "backgroundcolor": "#E5ECF6",
            "gridcolor": "white",
            "gridwidth": 2,
            "linecolor": "white",
            "showbackground": true,
            "ticks": "",
            "zerolinecolor": "white"
           }
          },
          "shapedefaults": {
           "line": {
            "color": "#2a3f5f"
           }
          },
          "ternary": {
           "aaxis": {
            "gridcolor": "white",
            "linecolor": "white",
            "ticks": ""
           },
           "baxis": {
            "gridcolor": "white",
            "linecolor": "white",
            "ticks": ""
           },
           "bgcolor": "#E5ECF6",
           "caxis": {
            "gridcolor": "white",
            "linecolor": "white",
            "ticks": ""
           }
          },
          "title": {
           "x": 0.05
          },
          "xaxis": {
           "automargin": true,
           "gridcolor": "white",
           "linecolor": "white",
           "ticks": "",
           "title": {
            "standoff": 15
           },
           "zerolinecolor": "white",
           "zerolinewidth": 2
          },
          "yaxis": {
           "automargin": true,
           "gridcolor": "white",
           "linecolor": "white",
           "ticks": "",
           "title": {
            "standoff": 15
           },
           "zerolinecolor": "white",
           "zerolinewidth": 2
          }
         }
        },
        "title": {
         "text": "Analysis of airline passenger count and hotel booking stay night time per month"
        },
        "xaxis": {
         "anchor": "y",
         "domain": [
          0,
          0.94
         ],
         "title": {
          "text": "Month"
         }
        },
        "yaxis": {
         "anchor": "x",
         "domain": [
          0,
          1
         ],
         "title": {
          "text": "<b>primary</b> Passenger Count"
         }
        },
        "yaxis2": {
         "anchor": "x",
         "overlaying": "y",
         "side": "right",
         "title": {
          "text": "<b>secondary</b> Hotel Booking stay nights"
         }
        }
       }
      }
     },
     "metadata": {},
     "output_type": "display_data"
    }
   ],
   "source": [
    "\n",
    "trace_pass = go.Bar(\n",
    "    x = concat_air.index,\n",
    "    y = concat_air['Passenger Count'],\n",
    "    name='Passenger Count'\n",
    ")\n",
    "# go.Figure(trace_pass).show()\n",
    "\n",
    "trace_week = go.Scatter(\n",
    "    x = concat_air.index,\n",
    "    y = concat_air['stays_in_week_nights'],\n",
    "    name='Stays in week nights', line=dict(width=4), marker=dict(size=12)\n",
    ")\n",
    "# go.Figure(trace_week).show()\n",
    "\n",
    "trace_end = go.Scatter(\n",
    "    x = concat_air.index,\n",
    "    y = concat_air['stays_in_weekend_nights'],\n",
    "    name='Stays in weekend nights', line=dict(width=4), marker=dict(size=12)\n",
    ")\n",
    "# go.Figure(trace_end).show()\n",
    "\n",
    "fig = make_subplots(specs=[[{\"secondary_y\": True}]])\n",
    "\n",
    "fig.add_trace(trace_pass, secondary_y=False)\n",
    "fig.add_trace(trace_week, secondary_y=True)\n",
    "fig.add_trace(trace_end, secondary_y=True)\n",
    "\n",
    "fig.update_layout(\n",
    "    title_text=\"Analysis of airline passenger count and hotel booking stay night time per month\"\n",
    ")\n",
    "\n",
    "# Set x-axis title\n",
    "fig.update_xaxes(title_text=\"Month\")\n",
    "\n",
    "# Set y-axes titles\n",
    "fig.update_yaxes(title_text=\"<b>primary</b> Passenger Count\", secondary_y=False)\n",
    "fig.update_yaxes(title_text=\"<b>secondary</b> Hotel Booking stay nights\", secondary_y=True)\n",
    "\n",
    "fig.show()"
   ]
  },
  {
   "cell_type": "code",
   "execution_count": null,
   "metadata": {},
   "outputs": [
    {
     "data": {
      "application/vnd.plotly.v1+json": {
       "config": {
        "plotlyServerURL": "https://plot.ly"
       },
       "data": [
        {
         "name": "Passenger Count",
         "type": "bar",
         "x": [
          0,
          1,
          2,
          3,
          4,
          5,
          6,
          7,
          8,
          9,
          10,
          11
         ],
         "xaxis": "x",
         "y": [
          28813.577893820715,
          32636.380916030535,
          28723.198570293884,
          24258.40796812749,
          26094.37066246057,
          32657.033768227167,
          31886.650887573964,
          29359.807661612133,
          30340.417235494882,
          27702.751385589865,
          29645.857915057913,
          28725.348496530456
         ],
         "yaxis": "y"
        },
        {
         "line": {
          "width": 4
         },
         "marker": {
          "size": 12
         },
         "name": "Average daily rate (ADR)",
         "type": "scatter",
         "x": [
          0,
          1,
          2,
          3,
          4,
          5,
          6,
          7,
          8,
          9,
          10,
          11
         ],
         "xaxis": "x",
         "y": [
          100.38078997204437,
          140.11152266339988,
          81.07677581120944,
          73.58227565691622,
          70.36124135604655,
          126.78801279519786,
          116.67219215650427,
          80.67964570144986,
          108.69551607158003,
          73.79496173093906,
          87.90887903225806,
          105.04965740388276
         ],
         "yaxis": "y2"
        }
       ],
       "layout": {
        "template": {
         "data": {
          "bar": [
           {
            "error_x": {
             "color": "#2a3f5f"
            },
            "error_y": {
             "color": "#2a3f5f"
            },
            "marker": {
             "line": {
              "color": "#E5ECF6",
              "width": 0.5
             },
             "pattern": {
              "fillmode": "overlay",
              "size": 10,
              "solidity": 0.2
             }
            },
            "type": "bar"
           }
          ],
          "barpolar": [
           {
            "marker": {
             "line": {
              "color": "#E5ECF6",
              "width": 0.5
             },
             "pattern": {
              "fillmode": "overlay",
              "size": 10,
              "solidity": 0.2
             }
            },
            "type": "barpolar"
           }
          ],
          "carpet": [
           {
            "aaxis": {
             "endlinecolor": "#2a3f5f",
             "gridcolor": "white",
             "linecolor": "white",
             "minorgridcolor": "white",
             "startlinecolor": "#2a3f5f"
            },
            "baxis": {
             "endlinecolor": "#2a3f5f",
             "gridcolor": "white",
             "linecolor": "white",
             "minorgridcolor": "white",
             "startlinecolor": "#2a3f5f"
            },
            "type": "carpet"
           }
          ],
          "choropleth": [
           {
            "colorbar": {
             "outlinewidth": 0,
             "ticks": ""
            },
            "type": "choropleth"
           }
          ],
          "contour": [
           {
            "colorbar": {
             "outlinewidth": 0,
             "ticks": ""
            },
            "colorscale": [
             [
              0,
              "#0d0887"
             ],
             [
              0.1111111111111111,
              "#46039f"
             ],
             [
              0.2222222222222222,
              "#7201a8"
             ],
             [
              0.3333333333333333,
              "#9c179e"
             ],
             [
              0.4444444444444444,
              "#bd3786"
             ],
             [
              0.5555555555555556,
              "#d8576b"
             ],
             [
              0.6666666666666666,
              "#ed7953"
             ],
             [
              0.7777777777777778,
              "#fb9f3a"
             ],
             [
              0.8888888888888888,
              "#fdca26"
             ],
             [
              1,
              "#f0f921"
             ]
            ],
            "type": "contour"
           }
          ],
          "contourcarpet": [
           {
            "colorbar": {
             "outlinewidth": 0,
             "ticks": ""
            },
            "type": "contourcarpet"
           }
          ],
          "heatmap": [
           {
            "colorbar": {
             "outlinewidth": 0,
             "ticks": ""
            },
            "colorscale": [
             [
              0,
              "#0d0887"
             ],
             [
              0.1111111111111111,
              "#46039f"
             ],
             [
              0.2222222222222222,
              "#7201a8"
             ],
             [
              0.3333333333333333,
              "#9c179e"
             ],
             [
              0.4444444444444444,
              "#bd3786"
             ],
             [
              0.5555555555555556,
              "#d8576b"
             ],
             [
              0.6666666666666666,
              "#ed7953"
             ],
             [
              0.7777777777777778,
              "#fb9f3a"
             ],
             [
              0.8888888888888888,
              "#fdca26"
             ],
             [
              1,
              "#f0f921"
             ]
            ],
            "type": "heatmap"
           }
          ],
          "heatmapgl": [
           {
            "colorbar": {
             "outlinewidth": 0,
             "ticks": ""
            },
            "colorscale": [
             [
              0,
              "#0d0887"
             ],
             [
              0.1111111111111111,
              "#46039f"
             ],
             [
              0.2222222222222222,
              "#7201a8"
             ],
             [
              0.3333333333333333,
              "#9c179e"
             ],
             [
              0.4444444444444444,
              "#bd3786"
             ],
             [
              0.5555555555555556,
              "#d8576b"
             ],
             [
              0.6666666666666666,
              "#ed7953"
             ],
             [
              0.7777777777777778,
              "#fb9f3a"
             ],
             [
              0.8888888888888888,
              "#fdca26"
             ],
             [
              1,
              "#f0f921"
             ]
            ],
            "type": "heatmapgl"
           }
          ],
          "histogram": [
           {
            "marker": {
             "pattern": {
              "fillmode": "overlay",
              "size": 10,
              "solidity": 0.2
             }
            },
            "type": "histogram"
           }
          ],
          "histogram2d": [
           {
            "colorbar": {
             "outlinewidth": 0,
             "ticks": ""
            },
            "colorscale": [
             [
              0,
              "#0d0887"
             ],
             [
              0.1111111111111111,
              "#46039f"
             ],
             [
              0.2222222222222222,
              "#7201a8"
             ],
             [
              0.3333333333333333,
              "#9c179e"
             ],
             [
              0.4444444444444444,
              "#bd3786"
             ],
             [
              0.5555555555555556,
              "#d8576b"
             ],
             [
              0.6666666666666666,
              "#ed7953"
             ],
             [
              0.7777777777777778,
              "#fb9f3a"
             ],
             [
              0.8888888888888888,
              "#fdca26"
             ],
             [
              1,
              "#f0f921"
             ]
            ],
            "type": "histogram2d"
           }
          ],
          "histogram2dcontour": [
           {
            "colorbar": {
             "outlinewidth": 0,
             "ticks": ""
            },
            "colorscale": [
             [
              0,
              "#0d0887"
             ],
             [
              0.1111111111111111,
              "#46039f"
             ],
             [
              0.2222222222222222,
              "#7201a8"
             ],
             [
              0.3333333333333333,
              "#9c179e"
             ],
             [
              0.4444444444444444,
              "#bd3786"
             ],
             [
              0.5555555555555556,
              "#d8576b"
             ],
             [
              0.6666666666666666,
              "#ed7953"
             ],
             [
              0.7777777777777778,
              "#fb9f3a"
             ],
             [
              0.8888888888888888,
              "#fdca26"
             ],
             [
              1,
              "#f0f921"
             ]
            ],
            "type": "histogram2dcontour"
           }
          ],
          "mesh3d": [
           {
            "colorbar": {
             "outlinewidth": 0,
             "ticks": ""
            },
            "type": "mesh3d"
           }
          ],
          "parcoords": [
           {
            "line": {
             "colorbar": {
              "outlinewidth": 0,
              "ticks": ""
             }
            },
            "type": "parcoords"
           }
          ],
          "pie": [
           {
            "automargin": true,
            "type": "pie"
           }
          ],
          "scatter": [
           {
            "fillpattern": {
             "fillmode": "overlay",
             "size": 10,
             "solidity": 0.2
            },
            "type": "scatter"
           }
          ],
          "scatter3d": [
           {
            "line": {
             "colorbar": {
              "outlinewidth": 0,
              "ticks": ""
             }
            },
            "marker": {
             "colorbar": {
              "outlinewidth": 0,
              "ticks": ""
             }
            },
            "type": "scatter3d"
           }
          ],
          "scattercarpet": [
           {
            "marker": {
             "colorbar": {
              "outlinewidth": 0,
              "ticks": ""
             }
            },
            "type": "scattercarpet"
           }
          ],
          "scattergeo": [
           {
            "marker": {
             "colorbar": {
              "outlinewidth": 0,
              "ticks": ""
             }
            },
            "type": "scattergeo"
           }
          ],
          "scattergl": [
           {
            "marker": {
             "colorbar": {
              "outlinewidth": 0,
              "ticks": ""
             }
            },
            "type": "scattergl"
           }
          ],
          "scattermapbox": [
           {
            "marker": {
             "colorbar": {
              "outlinewidth": 0,
              "ticks": ""
             }
            },
            "type": "scattermapbox"
           }
          ],
          "scatterpolar": [
           {
            "marker": {
             "colorbar": {
              "outlinewidth": 0,
              "ticks": ""
             }
            },
            "type": "scatterpolar"
           }
          ],
          "scatterpolargl": [
           {
            "marker": {
             "colorbar": {
              "outlinewidth": 0,
              "ticks": ""
             }
            },
            "type": "scatterpolargl"
           }
          ],
          "scatterternary": [
           {
            "marker": {
             "colorbar": {
              "outlinewidth": 0,
              "ticks": ""
             }
            },
            "type": "scatterternary"
           }
          ],
          "surface": [
           {
            "colorbar": {
             "outlinewidth": 0,
             "ticks": ""
            },
            "colorscale": [
             [
              0,
              "#0d0887"
             ],
             [
              0.1111111111111111,
              "#46039f"
             ],
             [
              0.2222222222222222,
              "#7201a8"
             ],
             [
              0.3333333333333333,
              "#9c179e"
             ],
             [
              0.4444444444444444,
              "#bd3786"
             ],
             [
              0.5555555555555556,
              "#d8576b"
             ],
             [
              0.6666666666666666,
              "#ed7953"
             ],
             [
              0.7777777777777778,
              "#fb9f3a"
             ],
             [
              0.8888888888888888,
              "#fdca26"
             ],
             [
              1,
              "#f0f921"
             ]
            ],
            "type": "surface"
           }
          ],
          "table": [
           {
            "cells": {
             "fill": {
              "color": "#EBF0F8"
             },
             "line": {
              "color": "white"
             }
            },
            "header": {
             "fill": {
              "color": "#C8D4E3"
             },
             "line": {
              "color": "white"
             }
            },
            "type": "table"
           }
          ]
         },
         "layout": {
          "annotationdefaults": {
           "arrowcolor": "#2a3f5f",
           "arrowhead": 0,
           "arrowwidth": 1
          },
          "autotypenumbers": "strict",
          "coloraxis": {
           "colorbar": {
            "outlinewidth": 0,
            "ticks": ""
           }
          },
          "colorscale": {
           "diverging": [
            [
             0,
             "#8e0152"
            ],
            [
             0.1,
             "#c51b7d"
            ],
            [
             0.2,
             "#de77ae"
            ],
            [
             0.3,
             "#f1b6da"
            ],
            [
             0.4,
             "#fde0ef"
            ],
            [
             0.5,
             "#f7f7f7"
            ],
            [
             0.6,
             "#e6f5d0"
            ],
            [
             0.7,
             "#b8e186"
            ],
            [
             0.8,
             "#7fbc41"
            ],
            [
             0.9,
             "#4d9221"
            ],
            [
             1,
             "#276419"
            ]
           ],
           "sequential": [
            [
             0,
             "#0d0887"
            ],
            [
             0.1111111111111111,
             "#46039f"
            ],
            [
             0.2222222222222222,
             "#7201a8"
            ],
            [
             0.3333333333333333,
             "#9c179e"
            ],
            [
             0.4444444444444444,
             "#bd3786"
            ],
            [
             0.5555555555555556,
             "#d8576b"
            ],
            [
             0.6666666666666666,
             "#ed7953"
            ],
            [
             0.7777777777777778,
             "#fb9f3a"
            ],
            [
             0.8888888888888888,
             "#fdca26"
            ],
            [
             1,
             "#f0f921"
            ]
           ],
           "sequentialminus": [
            [
             0,
             "#0d0887"
            ],
            [
             0.1111111111111111,
             "#46039f"
            ],
            [
             0.2222222222222222,
             "#7201a8"
            ],
            [
             0.3333333333333333,
             "#9c179e"
            ],
            [
             0.4444444444444444,
             "#bd3786"
            ],
            [
             0.5555555555555556,
             "#d8576b"
            ],
            [
             0.6666666666666666,
             "#ed7953"
            ],
            [
             0.7777777777777778,
             "#fb9f3a"
            ],
            [
             0.8888888888888888,
             "#fdca26"
            ],
            [
             1,
             "#f0f921"
            ]
           ]
          },
          "colorway": [
           "#636efa",
           "#EF553B",
           "#00cc96",
           "#ab63fa",
           "#FFA15A",
           "#19d3f3",
           "#FF6692",
           "#B6E880",
           "#FF97FF",
           "#FECB52"
          ],
          "font": {
           "color": "#2a3f5f"
          },
          "geo": {
           "bgcolor": "white",
           "lakecolor": "white",
           "landcolor": "#E5ECF6",
           "showlakes": true,
           "showland": true,
           "subunitcolor": "white"
          },
          "hoverlabel": {
           "align": "left"
          },
          "hovermode": "closest",
          "mapbox": {
           "style": "light"
          },
          "paper_bgcolor": "white",
          "plot_bgcolor": "#E5ECF6",
          "polar": {
           "angularaxis": {
            "gridcolor": "white",
            "linecolor": "white",
            "ticks": ""
           },
           "bgcolor": "#E5ECF6",
           "radialaxis": {
            "gridcolor": "white",
            "linecolor": "white",
            "ticks": ""
           }
          },
          "scene": {
           "xaxis": {
            "backgroundcolor": "#E5ECF6",
            "gridcolor": "white",
            "gridwidth": 2,
            "linecolor": "white",
            "showbackground": true,
            "ticks": "",
            "zerolinecolor": "white"
           },
           "yaxis": {
            "backgroundcolor": "#E5ECF6",
            "gridcolor": "white",
            "gridwidth": 2,
            "linecolor": "white",
            "showbackground": true,
            "ticks": "",
            "zerolinecolor": "white"
           },
           "zaxis": {
            "backgroundcolor": "#E5ECF6",
            "gridcolor": "white",
            "gridwidth": 2,
            "linecolor": "white",
            "showbackground": true,
            "ticks": "",
            "zerolinecolor": "white"
           }
          },
          "shapedefaults": {
           "line": {
            "color": "#2a3f5f"
           }
          },
          "ternary": {
           "aaxis": {
            "gridcolor": "white",
            "linecolor": "white",
            "ticks": ""
           },
           "baxis": {
            "gridcolor": "white",
            "linecolor": "white",
            "ticks": ""
           },
           "bgcolor": "#E5ECF6",
           "caxis": {
            "gridcolor": "white",
            "linecolor": "white",
            "ticks": ""
           }
          },
          "title": {
           "x": 0.05
          },
          "xaxis": {
           "automargin": true,
           "gridcolor": "white",
           "linecolor": "white",
           "ticks": "",
           "title": {
            "standoff": 15
           },
           "zerolinecolor": "white",
           "zerolinewidth": 2
          },
          "yaxis": {
           "automargin": true,
           "gridcolor": "white",
           "linecolor": "white",
           "ticks": "",
           "title": {
            "standoff": 15
           },
           "zerolinecolor": "white",
           "zerolinewidth": 2
          }
         }
        },
        "title": {
         "text": "Analysis of airline passenger count and the average daily rate of a hotel booking per month"
        },
        "xaxis": {
         "anchor": "y",
         "domain": [
          0,
          0.94
         ],
         "title": {
          "text": "Month"
         }
        },
        "yaxis": {
         "anchor": "x",
         "domain": [
          0,
          1
         ],
         "title": {
          "text": "<b>primary</b> Passenger count"
         }
        },
        "yaxis2": {
         "anchor": "x",
         "overlaying": "y",
         "side": "right",
         "title": {
          "text": "<b>secondary</b> ADR"
         }
        }
       }
      }
     },
     "metadata": {},
     "output_type": "display_data"
    }
   ],
   "source": [
    "\n",
    "trace_pass = go.Bar(\n",
    "    x = concat_air.index,\n",
    "    y = concat_air['Passenger Count'],\n",
    "    name='Passenger Count'\n",
    ")\n",
    "# go.Figure(trace_pass).show()\n",
    "\n",
    "trace_adr = go.Scatter(\n",
    "    x = concat_air.index,\n",
    "    y = concat_air['adr'],\n",
    "    name='Average daily rate (ADR)', line=dict(width=4), marker=dict(size=12)\n",
    ")\n",
    "# go.Figure(trace_week).show()\n",
    "\n",
    "fig = make_subplots(specs=[[{\"secondary_y\": True}]])\n",
    "\n",
    "fig.add_trace(trace_pass, secondary_y=False)\n",
    "fig.add_trace(trace_adr, secondary_y=True)\n",
    "\n",
    "fig.update_layout(\n",
    "    title_text=\"Analysis of airline passenger count and the average daily rate of a hotel booking per month\"\n",
    ")\n",
    "\n",
    "# Set x-axis title\n",
    "fig.update_xaxes(title_text=\"Month\")\n",
    "\n",
    "# Set y-axes titles\n",
    "fig.update_yaxes(title_text=\"<b>primary</b> Passenger count\", secondary_y=False)\n",
    "fig.update_yaxes(title_text=\"<b>secondary</b> ADR\", secondary_y=True)\n",
    "\n",
    "fig.show()"
   ]
  },
  {
   "cell_type": "code",
   "execution_count": null,
   "metadata": {},
   "outputs": [
    {
     "data": {
      "application/vnd.plotly.v1+json": {
       "config": {
        "plotlyServerURL": "https://plot.ly"
       },
       "data": [
        {
         "dimensions": [
          {
           "categoryarray": [
            "Low",
            "Medium",
            "High"
           ],
           "categoryorder": "array",
           "label": "Is repeated quest",
           "values": [
            "Low",
            "High",
            "Low",
            "Low",
            "Low",
            "High",
            "Low",
            "High",
            "High",
            "Low",
            "Low",
            "High",
            "Low",
            "Low",
            "Low",
            "Low",
            "Low",
            "Low",
            "High",
            "Low",
            "Low",
            "High",
            "Low",
            "High",
            "High",
            "Low",
            "Low",
            "Low",
            "Low",
            "Low",
            "High",
            "Low",
            "Low",
            "High",
            "High",
            "Low",
            "Low",
            "High",
            "Low",
            "Low",
            "High",
            "Low",
            "High",
            "Low",
            "Low",
            "Low",
            "Low",
            "Low",
            "Low",
            "Low",
            "High",
            "Low",
            "Low",
            "Low",
            "Low",
            "Low",
            "Low",
            "Low",
            "High",
            "Low",
            "Low",
            "High",
            "High",
            "High",
            "Low",
            "Low",
            "Medium",
            "High",
            "Medium",
            "Medium",
            "Medium",
            "Medium",
            "Medium",
            "Medium",
            "High",
            "Medium",
            "Medium",
            "Medium",
            "High",
            "Medium",
            "Medium",
            "High",
            "Medium",
            "Medium",
            "Medium",
            "Medium",
            "Medium",
            "Medium",
            "High",
            "Medium",
            "Medium",
            "Medium",
            "Medium",
            "Medium",
            "Medium",
            "High",
            "Medium",
            "High",
            "High",
            "Medium",
            "Medium",
            "Medium",
            "Medium",
            "High",
            "Medium",
            "Medium",
            "High",
            "High",
            "Medium",
            "Medium",
            "Medium",
            "High",
            "Medium",
            "Medium",
            "Medium",
            "Medium",
            "Medium",
            "Medium",
            "Medium",
            "High",
            "High",
            "Medium",
            "Medium",
            "Medium",
            "Medium",
            "High",
            "High",
            "High",
            "High",
            "High",
            "High",
            "High",
            "High",
            "High",
            "High",
            "High",
            "High"
           ]
          },
          {
           "categoryarray": [
            "Low",
            "Medium",
            "High"
           ],
           "categoryorder": "array",
           "label": "Previous cancellations",
           "values": [
            "Low",
            "High",
            "Low",
            "Low",
            "Low",
            "Low",
            "Low",
            "Low",
            "High",
            "Low",
            "Low",
            "High",
            "Low",
            "Low",
            "Low",
            "Low",
            "Low",
            "Low",
            "High",
            "Low",
            "Low",
            "Low",
            "Low",
            "Low",
            "Low",
            "Low",
            "Low",
            "Low",
            "Low",
            "Low",
            "High",
            "Low",
            "Low",
            "Low",
            "High",
            "Low",
            "Low",
            "High",
            "Low",
            "Low",
            "High",
            "Low",
            "High",
            "Low",
            "Low",
            "Low",
            "Low",
            "Low",
            "Low",
            "Low",
            "Low",
            "Low",
            "Low",
            "Low",
            "Low",
            "Medium",
            "Medium",
            "Medium",
            "High",
            "Medium",
            "Medium",
            "Medium",
            "Medium",
            "High",
            "Medium",
            "Medium",
            "Medium",
            "Medium",
            "Medium",
            "Medium",
            "Medium",
            "Medium",
            "Medium",
            "Medium",
            "Medium",
            "Medium",
            "Medium",
            "Medium",
            "Medium",
            "Medium",
            "Medium",
            "Medium",
            "Medium",
            "Medium",
            "Medium",
            "Medium",
            "Medium",
            "Medium",
            "Medium",
            "Medium",
            "Medium",
            "Medium",
            "Medium",
            "Medium",
            "Medium",
            "Medium",
            "Medium",
            "Medium",
            "Medium",
            "Medium",
            "Medium",
            "Medium",
            "High",
            "High",
            "High",
            "High",
            "High",
            "High",
            "High",
            "High",
            "High",
            "High",
            "High",
            "High",
            "High",
            "High",
            "High",
            "High",
            "High",
            "High",
            "High",
            "High",
            "High",
            "High",
            "High",
            "High",
            "High",
            "High",
            "High",
            "High",
            "High",
            "High",
            "High",
            "High",
            "High",
            "High",
            "High"
           ]
          },
          {
           "categoryarray": [
            "Low",
            "Medium",
            "High"
           ],
           "categoryorder": "array",
           "label": "Previous bookings not canceled",
           "values": [
            "Low",
            "High",
            "Low",
            "Low",
            "Low",
            "High",
            "Low",
            "High",
            "High",
            "Low",
            "Low",
            "High",
            "Low",
            "Low",
            "Low",
            "Low",
            "Low",
            "Low",
            "High",
            "Low",
            "Low",
            "High",
            "Low",
            "High",
            "High",
            "Low",
            "High",
            "Low",
            "Low",
            "High",
            "High",
            "Low",
            "Low",
            "High",
            "High",
            "Low",
            "Low",
            "High",
            "Low",
            "Low",
            "High",
            "Low",
            "High",
            "Low",
            "Low",
            "Low",
            "Low",
            "Low",
            "Low",
            "Low",
            "High",
            "Low",
            "Low",
            "Low",
            "Low",
            "Low",
            "Low",
            "Low",
            "High",
            "Low",
            "Low",
            "High",
            "High",
            "High",
            "Low",
            "Low",
            "Low",
            "High",
            "Low",
            "Medium",
            "Medium",
            "Medium",
            "Medium",
            "Medium",
            "Medium",
            "Medium",
            "Medium",
            "Medium",
            "High",
            "Medium",
            "Medium",
            "Medium",
            "Medium",
            "Medium",
            "Medium",
            "Medium",
            "Medium",
            "Medium",
            "Medium",
            "Medium",
            "Medium",
            "Medium",
            "Medium",
            "Medium",
            "Medium",
            "Medium",
            "Medium",
            "High",
            "High",
            "Medium",
            "Medium",
            "Medium",
            "Medium",
            "High",
            "Medium",
            "Medium",
            "High",
            "High",
            "Medium",
            "Medium",
            "Medium",
            "Medium",
            "Medium",
            "Medium",
            "Medium",
            "High",
            "Medium",
            "Medium",
            "Medium",
            "High",
            "High",
            "Medium",
            "Medium",
            "High",
            "High",
            "High",
            "High",
            "High",
            "High",
            "High",
            "High",
            "High",
            "High",
            "High",
            "High",
            "High",
            "High"
           ]
          }
         ],
         "line": {
          "color": [
           0,
           2,
           0,
           0,
           0,
           2,
           0,
           2,
           2,
           0,
           0,
           2,
           0,
           0,
           0,
           0,
           0,
           0,
           2,
           0,
           0,
           2,
           0,
           2,
           2,
           0,
           0,
           0,
           0,
           0,
           2,
           0,
           0,
           2,
           2,
           0,
           0,
           2,
           0,
           0,
           2,
           0,
           2,
           0,
           0,
           0,
           0,
           0,
           0,
           0,
           2,
           0,
           0,
           0,
           0,
           0,
           0,
           0,
           2,
           0,
           0,
           2,
           2,
           2,
           0,
           0,
           1,
           2,
           1,
           1,
           1,
           1,
           1,
           1,
           2,
           1,
           1,
           1,
           2,
           1,
           1,
           2,
           1,
           1,
           1,
           1,
           1,
           1,
           2,
           1,
           1,
           1,
           1,
           1,
           1,
           2,
           1,
           2,
           2,
           1,
           1,
           1,
           1,
           2,
           1,
           1,
           2,
           2,
           1,
           1,
           1,
           2,
           1,
           1,
           1,
           1,
           1,
           1,
           1,
           2,
           2,
           1,
           1,
           1,
           1,
           2,
           2,
           2,
           2,
           2,
           2,
           2,
           2,
           2,
           2,
           2,
           2
          ],
          "colorscale": [
           [
            0,
            "#b0c4de"
           ],
           [
            0.5,
            "#3cb371"
           ],
           [
            1,
            "#e9967a"
           ]
          ]
         },
         "type": "parcats"
        }
       ],
       "layout": {
        "height": 600,
        "template": {
         "data": {
          "bar": [
           {
            "error_x": {
             "color": "#2a3f5f"
            },
            "error_y": {
             "color": "#2a3f5f"
            },
            "marker": {
             "line": {
              "color": "#E5ECF6",
              "width": 0.5
             },
             "pattern": {
              "fillmode": "overlay",
              "size": 10,
              "solidity": 0.2
             }
            },
            "type": "bar"
           }
          ],
          "barpolar": [
           {
            "marker": {
             "line": {
              "color": "#E5ECF6",
              "width": 0.5
             },
             "pattern": {
              "fillmode": "overlay",
              "size": 10,
              "solidity": 0.2
             }
            },
            "type": "barpolar"
           }
          ],
          "carpet": [
           {
            "aaxis": {
             "endlinecolor": "#2a3f5f",
             "gridcolor": "white",
             "linecolor": "white",
             "minorgridcolor": "white",
             "startlinecolor": "#2a3f5f"
            },
            "baxis": {
             "endlinecolor": "#2a3f5f",
             "gridcolor": "white",
             "linecolor": "white",
             "minorgridcolor": "white",
             "startlinecolor": "#2a3f5f"
            },
            "type": "carpet"
           }
          ],
          "choropleth": [
           {
            "colorbar": {
             "outlinewidth": 0,
             "ticks": ""
            },
            "type": "choropleth"
           }
          ],
          "contour": [
           {
            "colorbar": {
             "outlinewidth": 0,
             "ticks": ""
            },
            "colorscale": [
             [
              0,
              "#0d0887"
             ],
             [
              0.1111111111111111,
              "#46039f"
             ],
             [
              0.2222222222222222,
              "#7201a8"
             ],
             [
              0.3333333333333333,
              "#9c179e"
             ],
             [
              0.4444444444444444,
              "#bd3786"
             ],
             [
              0.5555555555555556,
              "#d8576b"
             ],
             [
              0.6666666666666666,
              "#ed7953"
             ],
             [
              0.7777777777777778,
              "#fb9f3a"
             ],
             [
              0.8888888888888888,
              "#fdca26"
             ],
             [
              1,
              "#f0f921"
             ]
            ],
            "type": "contour"
           }
          ],
          "contourcarpet": [
           {
            "colorbar": {
             "outlinewidth": 0,
             "ticks": ""
            },
            "type": "contourcarpet"
           }
          ],
          "heatmap": [
           {
            "colorbar": {
             "outlinewidth": 0,
             "ticks": ""
            },
            "colorscale": [
             [
              0,
              "#0d0887"
             ],
             [
              0.1111111111111111,
              "#46039f"
             ],
             [
              0.2222222222222222,
              "#7201a8"
             ],
             [
              0.3333333333333333,
              "#9c179e"
             ],
             [
              0.4444444444444444,
              "#bd3786"
             ],
             [
              0.5555555555555556,
              "#d8576b"
             ],
             [
              0.6666666666666666,
              "#ed7953"
             ],
             [
              0.7777777777777778,
              "#fb9f3a"
             ],
             [
              0.8888888888888888,
              "#fdca26"
             ],
             [
              1,
              "#f0f921"
             ]
            ],
            "type": "heatmap"
           }
          ],
          "heatmapgl": [
           {
            "colorbar": {
             "outlinewidth": 0,
             "ticks": ""
            },
            "colorscale": [
             [
              0,
              "#0d0887"
             ],
             [
              0.1111111111111111,
              "#46039f"
             ],
             [
              0.2222222222222222,
              "#7201a8"
             ],
             [
              0.3333333333333333,
              "#9c179e"
             ],
             [
              0.4444444444444444,
              "#bd3786"
             ],
             [
              0.5555555555555556,
              "#d8576b"
             ],
             [
              0.6666666666666666,
              "#ed7953"
             ],
             [
              0.7777777777777778,
              "#fb9f3a"
             ],
             [
              0.8888888888888888,
              "#fdca26"
             ],
             [
              1,
              "#f0f921"
             ]
            ],
            "type": "heatmapgl"
           }
          ],
          "histogram": [
           {
            "marker": {
             "pattern": {
              "fillmode": "overlay",
              "size": 10,
              "solidity": 0.2
             }
            },
            "type": "histogram"
           }
          ],
          "histogram2d": [
           {
            "colorbar": {
             "outlinewidth": 0,
             "ticks": ""
            },
            "colorscale": [
             [
              0,
              "#0d0887"
             ],
             [
              0.1111111111111111,
              "#46039f"
             ],
             [
              0.2222222222222222,
              "#7201a8"
             ],
             [
              0.3333333333333333,
              "#9c179e"
             ],
             [
              0.4444444444444444,
              "#bd3786"
             ],
             [
              0.5555555555555556,
              "#d8576b"
             ],
             [
              0.6666666666666666,
              "#ed7953"
             ],
             [
              0.7777777777777778,
              "#fb9f3a"
             ],
             [
              0.8888888888888888,
              "#fdca26"
             ],
             [
              1,
              "#f0f921"
             ]
            ],
            "type": "histogram2d"
           }
          ],
          "histogram2dcontour": [
           {
            "colorbar": {
             "outlinewidth": 0,
             "ticks": ""
            },
            "colorscale": [
             [
              0,
              "#0d0887"
             ],
             [
              0.1111111111111111,
              "#46039f"
             ],
             [
              0.2222222222222222,
              "#7201a8"
             ],
             [
              0.3333333333333333,
              "#9c179e"
             ],
             [
              0.4444444444444444,
              "#bd3786"
             ],
             [
              0.5555555555555556,
              "#d8576b"
             ],
             [
              0.6666666666666666,
              "#ed7953"
             ],
             [
              0.7777777777777778,
              "#fb9f3a"
             ],
             [
              0.8888888888888888,
              "#fdca26"
             ],
             [
              1,
              "#f0f921"
             ]
            ],
            "type": "histogram2dcontour"
           }
          ],
          "mesh3d": [
           {
            "colorbar": {
             "outlinewidth": 0,
             "ticks": ""
            },
            "type": "mesh3d"
           }
          ],
          "parcoords": [
           {
            "line": {
             "colorbar": {
              "outlinewidth": 0,
              "ticks": ""
             }
            },
            "type": "parcoords"
           }
          ],
          "pie": [
           {
            "automargin": true,
            "type": "pie"
           }
          ],
          "scatter": [
           {
            "fillpattern": {
             "fillmode": "overlay",
             "size": 10,
             "solidity": 0.2
            },
            "type": "scatter"
           }
          ],
          "scatter3d": [
           {
            "line": {
             "colorbar": {
              "outlinewidth": 0,
              "ticks": ""
             }
            },
            "marker": {
             "colorbar": {
              "outlinewidth": 0,
              "ticks": ""
             }
            },
            "type": "scatter3d"
           }
          ],
          "scattercarpet": [
           {
            "marker": {
             "colorbar": {
              "outlinewidth": 0,
              "ticks": ""
             }
            },
            "type": "scattercarpet"
           }
          ],
          "scattergeo": [
           {
            "marker": {
             "colorbar": {
              "outlinewidth": 0,
              "ticks": ""
             }
            },
            "type": "scattergeo"
           }
          ],
          "scattergl": [
           {
            "marker": {
             "colorbar": {
              "outlinewidth": 0,
              "ticks": ""
             }
            },
            "type": "scattergl"
           }
          ],
          "scattermapbox": [
           {
            "marker": {
             "colorbar": {
              "outlinewidth": 0,
              "ticks": ""
             }
            },
            "type": "scattermapbox"
           }
          ],
          "scatterpolar": [
           {
            "marker": {
             "colorbar": {
              "outlinewidth": 0,
              "ticks": ""
             }
            },
            "type": "scatterpolar"
           }
          ],
          "scatterpolargl": [
           {
            "marker": {
             "colorbar": {
              "outlinewidth": 0,
              "ticks": ""
             }
            },
            "type": "scatterpolargl"
           }
          ],
          "scatterternary": [
           {
            "marker": {
             "colorbar": {
              "outlinewidth": 0,
              "ticks": ""
             }
            },
            "type": "scatterternary"
           }
          ],
          "surface": [
           {
            "colorbar": {
             "outlinewidth": 0,
             "ticks": ""
            },
            "colorscale": [
             [
              0,
              "#0d0887"
             ],
             [
              0.1111111111111111,
              "#46039f"
             ],
             [
              0.2222222222222222,
              "#7201a8"
             ],
             [
              0.3333333333333333,
              "#9c179e"
             ],
             [
              0.4444444444444444,
              "#bd3786"
             ],
             [
              0.5555555555555556,
              "#d8576b"
             ],
             [
              0.6666666666666666,
              "#ed7953"
             ],
             [
              0.7777777777777778,
              "#fb9f3a"
             ],
             [
              0.8888888888888888,
              "#fdca26"
             ],
             [
              1,
              "#f0f921"
             ]
            ],
            "type": "surface"
           }
          ],
          "table": [
           {
            "cells": {
             "fill": {
              "color": "#EBF0F8"
             },
             "line": {
              "color": "white"
             }
            },
            "header": {
             "fill": {
              "color": "#C8D4E3"
             },
             "line": {
              "color": "white"
             }
            },
            "type": "table"
           }
          ]
         },
         "layout": {
          "annotationdefaults": {
           "arrowcolor": "#2a3f5f",
           "arrowhead": 0,
           "arrowwidth": 1
          },
          "autotypenumbers": "strict",
          "coloraxis": {
           "colorbar": {
            "outlinewidth": 0,
            "ticks": ""
           }
          },
          "colorscale": {
           "diverging": [
            [
             0,
             "#8e0152"
            ],
            [
             0.1,
             "#c51b7d"
            ],
            [
             0.2,
             "#de77ae"
            ],
            [
             0.3,
             "#f1b6da"
            ],
            [
             0.4,
             "#fde0ef"
            ],
            [
             0.5,
             "#f7f7f7"
            ],
            [
             0.6,
             "#e6f5d0"
            ],
            [
             0.7,
             "#b8e186"
            ],
            [
             0.8,
             "#7fbc41"
            ],
            [
             0.9,
             "#4d9221"
            ],
            [
             1,
             "#276419"
            ]
           ],
           "sequential": [
            [
             0,
             "#0d0887"
            ],
            [
             0.1111111111111111,
             "#46039f"
            ],
            [
             0.2222222222222222,
             "#7201a8"
            ],
            [
             0.3333333333333333,
             "#9c179e"
            ],
            [
             0.4444444444444444,
             "#bd3786"
            ],
            [
             0.5555555555555556,
             "#d8576b"
            ],
            [
             0.6666666666666666,
             "#ed7953"
            ],
            [
             0.7777777777777778,
             "#fb9f3a"
            ],
            [
             0.8888888888888888,
             "#fdca26"
            ],
            [
             1,
             "#f0f921"
            ]
           ],
           "sequentialminus": [
            [
             0,
             "#0d0887"
            ],
            [
             0.1111111111111111,
             "#46039f"
            ],
            [
             0.2222222222222222,
             "#7201a8"
            ],
            [
             0.3333333333333333,
             "#9c179e"
            ],
            [
             0.4444444444444444,
             "#bd3786"
            ],
            [
             0.5555555555555556,
             "#d8576b"
            ],
            [
             0.6666666666666666,
             "#ed7953"
            ],
            [
             0.7777777777777778,
             "#fb9f3a"
            ],
            [
             0.8888888888888888,
             "#fdca26"
            ],
            [
             1,
             "#f0f921"
            ]
           ]
          },
          "colorway": [
           "#636efa",
           "#EF553B",
           "#00cc96",
           "#ab63fa",
           "#FFA15A",
           "#19d3f3",
           "#FF6692",
           "#B6E880",
           "#FF97FF",
           "#FECB52"
          ],
          "font": {
           "color": "#2a3f5f"
          },
          "geo": {
           "bgcolor": "white",
           "lakecolor": "white",
           "landcolor": "#E5ECF6",
           "showlakes": true,
           "showland": true,
           "subunitcolor": "white"
          },
          "hoverlabel": {
           "align": "left"
          },
          "hovermode": "closest",
          "mapbox": {
           "style": "light"
          },
          "paper_bgcolor": "white",
          "plot_bgcolor": "#E5ECF6",
          "polar": {
           "angularaxis": {
            "gridcolor": "white",
            "linecolor": "white",
            "ticks": ""
           },
           "bgcolor": "#E5ECF6",
           "radialaxis": {
            "gridcolor": "white",
            "linecolor": "white",
            "ticks": ""
           }
          },
          "scene": {
           "xaxis": {
            "backgroundcolor": "#E5ECF6",
            "gridcolor": "white",
            "gridwidth": 2,
            "linecolor": "white",
            "showbackground": true,
            "ticks": "",
            "zerolinecolor": "white"
           },
           "yaxis": {
            "backgroundcolor": "#E5ECF6",
            "gridcolor": "white",
            "gridwidth": 2,
            "linecolor": "white",
            "showbackground": true,
            "ticks": "",
            "zerolinecolor": "white"
           },
           "zaxis": {
            "backgroundcolor": "#E5ECF6",
            "gridcolor": "white",
            "gridwidth": 2,
            "linecolor": "white",
            "showbackground": true,
            "ticks": "",
            "zerolinecolor": "white"
           }
          },
          "shapedefaults": {
           "line": {
            "color": "#2a3f5f"
           }
          },
          "ternary": {
           "aaxis": {
            "gridcolor": "white",
            "linecolor": "white",
            "ticks": ""
           },
           "baxis": {
            "gridcolor": "white",
            "linecolor": "white",
            "ticks": ""
           },
           "bgcolor": "#E5ECF6",
           "caxis": {
            "gridcolor": "white",
            "linecolor": "white",
            "ticks": ""
           }
          },
          "title": {
           "x": 0.05
          },
          "xaxis": {
           "automargin": true,
           "gridcolor": "white",
           "linecolor": "white",
           "ticks": "",
           "title": {
            "standoff": 15
           },
           "zerolinecolor": "white",
           "zerolinewidth": 2
          },
          "yaxis": {
           "automargin": true,
           "gridcolor": "white",
           "linecolor": "white",
           "ticks": "",
           "title": {
            "standoff": 15
           },
           "zerolinecolor": "white",
           "zerolinewidth": 2
          }
         }
        },
        "title": {
         "text": "Analysis of restaurant tips for all variables"
        }
       }
      }
     },
     "metadata": {},
     "output_type": "display_data"
    }
   ],
   "source": [
    "qcut_series_rep, qcut_intervals_rep = pd.qcut(concat['is_repeated_guest'].rank(method='first'), q=3, retbins=True, labels=['Low', 'Medium', 'High'])\n",
    "qcut_series_can, qcut_intervals_can = pd.qcut(concat['previous_cancellations'].rank(method='first'), q=3, retbins=True, labels=['Low', 'Medium', 'High'])\n",
    "qcut_series_not, qcut_intervals_not = pd.qcut(concat['previous_bookings_not_canceled'].rank(method='first'), q=3, retbins=True, labels=['Low', 'Medium', 'High'])\n",
    "\n",
    "rep_dim = go.parcats.Dimension(\n",
    "    values=qcut_series_rep,\n",
    "    label=\"Is repeated quest\",\n",
    "    categoryorder='array',\n",
    "    categoryarray=['Low', 'Medium', 'High']\n",
    ")\n",
    "can_dim = go.parcats.Dimension(\n",
    "    values=qcut_series_can,\n",
    "    categoryorder='array',\n",
    "    categoryarray=['Low', 'Medium', 'High'],\n",
    "    label=\"Previous cancellations\"\n",
    ")\n",
    "not_dim = go.parcats.Dimension(\n",
    "    values=qcut_series_not,\n",
    "    categoryorder='array',\n",
    "    categoryarray=['Low', 'Medium', 'High'],\n",
    "    label=\"Previous bookings not canceled\"\n",
    ")\n",
    "\n",
    "# fig_air = go.Figure(data=[go.Parcats(\n",
    "#     dimensions=[month_dim, repeated_dim, weekend_dim, week_dim, adr_dim]\n",
    "# )], layout=go.Layout(title='Analysis of restaurant tips for all variables'))\n",
    "\n",
    "# fig_air.show()\n",
    "\n",
    "color = qcut_series_rep.astype('category').cat.codes\n",
    "colorscale = ['#b0c4de', '#3cb371', '#e9967a']\n",
    "\n",
    "fig = go.Figure(go.Parcats(\n",
    "    dimensions=[rep_dim, can_dim, not_dim], line={'color': color, 'colorscale': colorscale}\n",
    "), layout=go.Layout(title='Analysis of restaurant tips for all variables', height=600))\n",
    "\n",
    "fig.show()"
   ]
  },
  {
   "cell_type": "code",
   "execution_count": null,
   "metadata": {},
   "outputs": [
    {
     "name": "stdout",
     "output_type": "stream",
     "text": [
      "0       97.0\n",
      "1       42.0\n",
      "2       95.0\n",
      "3       86.5\n",
      "4      100.0\n",
      "       ...  \n",
      "132     99.3\n",
      "133     93.4\n",
      "134     90.3\n",
      "135     80.6\n",
      "136     90.7\n",
      "Name: Literacy(%), Length: 137, dtype: float64\n"
     ]
    },
    {
     "data": {
      "application/vnd.plotly.v1+json": {
       "config": {
        "plotlyServerURL": "https://plot.ly"
       },
       "data": [
        {
         "dimensions": [
          {
           "categoryarray": [
            "Low",
            "Medium",
            "High"
           ],
           "categoryorder": "array",
           "label": "Literacy",
           "values": [
            "Medium",
            "Low",
            "Medium",
            "Medium",
            "High",
            "High",
            "High",
            "High",
            "High",
            "Medium",
            "Low",
            "High",
            "Low",
            "Low",
            "High",
            "Medium",
            "High",
            "Medium",
            "Medium",
            "High",
            "Low",
            "High",
            "Medium",
            "Medium",
            "Medium",
            "Low",
            "Medium",
            "Low",
            "Medium",
            "High",
            "High",
            "Low",
            "Medium",
            "High",
            "Low",
            "Medium",
            "Low",
            "High",
            "High",
            "Low",
            "High",
            "Medium",
            "High",
            "Low",
            "High",
            "Low",
            "Low",
            "Low",
            "Medium",
            "Low",
            "High",
            "Low",
            "High",
            "Low",
            "High",
            "High",
            "Medium",
            "Low",
            "High",
            "Low",
            "Low",
            "High",
            "Medium",
            "High",
            "Medium",
            "Low",
            "Medium",
            "High",
            "High",
            "Medium",
            "Low",
            "Low",
            "Medium",
            "Low",
            "Medium",
            "Medium",
            "High",
            "High",
            "High",
            "High",
            "Medium",
            "Low",
            "High",
            "Low",
            "High",
            "Medium",
            "Low",
            "Medium",
            "Low",
            "Low",
            "Medium",
            "Low",
            "Medium",
            "Low",
            "Medium",
            "Low",
            "Low",
            "High",
            "High",
            "Low",
            "Low",
            "Low",
            "Medium",
            "Medium",
            "Medium",
            "Medium",
            "High",
            "Medium",
            "Medium",
            "Medium",
            "High",
            "High",
            "Low",
            "Low",
            "Low",
            "Medium",
            "Medium",
            "Medium",
            "Low",
            "High",
            "High",
            "Low",
            "Low",
            "Low",
            "Medium",
            "High",
            "Low",
            "Medium",
            "Low",
            "Low",
            "High",
            "High",
            "High",
            "Medium",
            "Medium",
            "Low",
            "Medium"
           ]
          },
          {
           "categoryarray": [
            "Low",
            "Medium",
            "High"
           ],
           "categoryorder": "array",
           "label": "GDP",
           "values": [
            "High",
            "Low",
            "Medium",
            "Medium",
            "High",
            "High",
            "Medium",
            "High",
            "High",
            "Low",
            "Low",
            "High",
            "Low",
            "Low",
            "Medium",
            "High",
            "Medium",
            "Low",
            "Medium",
            "High",
            "Medium",
            "High",
            "Medium",
            "Medium",
            "Medium",
            "Low",
            "Medium",
            "Low",
            "Low",
            "High",
            "High",
            "Low",
            "Medium",
            "High",
            "Medium",
            "Low",
            "Medium",
            "High",
            "High",
            "Low",
            "High",
            "Medium",
            "High",
            "Medium",
            "Low",
            "High",
            "Low",
            "High",
            "Medium",
            "Low",
            "High",
            "Medium",
            "Medium",
            "Low",
            "Medium",
            "High",
            "Low",
            "Low",
            "High",
            "Medium",
            "Low",
            "High",
            "High",
            "High",
            "Medium",
            "High",
            "Medium",
            "High",
            "Medium",
            "Low",
            "Low",
            "Low",
            "High",
            "Low",
            "Medium",
            "Medium",
            "High",
            "High",
            "High",
            "Medium",
            "High",
            "Medium",
            "High",
            "Low",
            "Medium",
            "Medium",
            "Low",
            "High",
            "Low",
            "Low",
            "High",
            "Low",
            "Medium",
            "Low",
            "Medium",
            "Low",
            "Low",
            "High",
            "High",
            "Low",
            "High",
            "Low",
            "Medium",
            "Medium",
            "Medium",
            "Medium",
            "High",
            "High",
            "Medium",
            "High",
            "Medium",
            "Medium",
            "Low",
            "Low",
            "Low",
            "High",
            "Low",
            "Medium",
            "High",
            "High",
            "High",
            "Medium",
            "Low",
            "Low",
            "Medium",
            "Low",
            "Medium",
            "High",
            "Low",
            "Low",
            "Medium",
            "High",
            "Low",
            "Medium",
            "Low",
            "Low",
            "Low"
           ]
          },
          {
           "categoryarray": [
            "Low",
            "Medium",
            "High"
           ],
           "categoryorder": "array",
           "label": "Lead Time",
           "values": [
            "High",
            "Low",
            "Low",
            "High",
            "Low",
            "Medium",
            "Medium",
            "High",
            "High",
            "Medium",
            "Low",
            "High",
            "High",
            "Low",
            "Medium",
            "High",
            "Medium",
            "Low",
            "Medium",
            "High",
            "High",
            "High",
            "Medium",
            "Low",
            "High",
            "High",
            "Medium",
            "Low",
            "Low",
            "Medium",
            "High",
            "Low",
            "High",
            "High",
            "Low",
            "Low",
            "Medium",
            "Medium",
            "High",
            "Low",
            "Medium",
            "High",
            "Medium",
            "Low",
            "High",
            "Low",
            "Low",
            "High",
            "High",
            "Low",
            "Medium",
            "Low",
            "High",
            "Low",
            "Medium",
            "High",
            "Low",
            "Medium",
            "High",
            "Low",
            "Low",
            "High",
            "High",
            "High",
            "Medium",
            "High",
            "Medium",
            "Medium",
            "Medium",
            "Medium",
            "Low",
            "Low",
            "Medium",
            "Low",
            "Low",
            "Medium",
            "Low",
            "High",
            "High",
            "High",
            "Medium",
            "Medium",
            "Low",
            "Low",
            "Medium",
            "Medium",
            "Low",
            "High",
            "High",
            "High",
            "Low",
            "Low",
            "Medium",
            "High",
            "Low",
            "Low",
            "Low",
            "Medium",
            "High",
            "Low",
            "Medium",
            "Low",
            "Medium",
            "Low",
            "Medium",
            "High",
            "High",
            "High",
            "Low",
            "Medium",
            "High",
            "Medium",
            "High",
            "Low",
            "Medium",
            "High",
            "High",
            "Medium",
            "High",
            "Medium",
            "High",
            "Medium",
            "Low",
            "Medium",
            "Medium",
            "Low",
            "Low",
            "Medium",
            "Low",
            "Low",
            "Medium",
            "High",
            "Low",
            "Medium",
            "High",
            "Medium",
            "Medium"
           ]
          },
          {
           "categoryarray": [
            "Low",
            "Medium",
            "High"
           ],
           "categoryorder": "array",
           "label": "Phones",
           "values": [
            "High",
            "Low",
            "High",
            "Low",
            "High",
            "Medium",
            "Medium",
            "High",
            "High",
            "Medium",
            "Low",
            "High",
            "Low",
            "Low",
            "High",
            "Medium",
            "High",
            "Low",
            "Medium",
            "High",
            "Medium",
            "High",
            "Medium",
            "Medium",
            "Medium",
            "Low",
            "Medium",
            "Low",
            "Low",
            "Medium",
            "High",
            "Low",
            "High",
            "High",
            "Medium",
            "Medium",
            "Medium",
            "High",
            "High",
            "Low",
            "High",
            "Medium",
            "High",
            "Low",
            "Medium",
            "High",
            "Low",
            "High",
            "High",
            "Low",
            "High",
            "Medium",
            "Medium",
            "Low",
            "High",
            "High",
            "Low",
            "Low",
            "High",
            "Medium",
            "Low",
            "High",
            "High",
            "High",
            "Medium",
            "High",
            "Medium",
            "High",
            "Medium",
            "Low",
            "Low",
            "Low",
            "Medium",
            "Low",
            "Medium",
            "Medium",
            "High",
            "Medium",
            "High",
            "High",
            "High",
            "Low",
            "High",
            "Low",
            "Medium",
            "Medium",
            "Low",
            "High",
            "Low",
            "Low",
            "High",
            "Low",
            "Medium",
            "Low",
            "Low",
            "Low",
            "Low",
            "High",
            "High",
            "Low",
            "Medium",
            "Low",
            "Medium",
            "Medium",
            "Low",
            "High",
            "High",
            "High",
            "Low",
            "Medium",
            "Medium",
            "Medium",
            "Low",
            "Low",
            "Low",
            "High",
            "Medium",
            "Medium",
            "Medium",
            "High",
            "High",
            "Medium",
            "Medium",
            "Low",
            "Medium",
            "Low",
            "Medium",
            "High",
            "Low",
            "Low",
            "Medium",
            "High",
            "Low",
            "Medium",
            "Medium",
            "Low",
            "Low"
           ]
          },
          {
           "categoryarray": [
            "Low",
            "Medium",
            "High"
           ],
           "categoryorder": "array",
           "label": "Service",
           "values": [
            "High",
            "Low",
            "High",
            "Medium",
            "Medium",
            "Medium",
            "Low",
            "High",
            "High",
            "Low",
            "Low",
            "High",
            "Medium",
            "Medium",
            "Medium",
            "Medium",
            "Medium",
            "Medium",
            "Low",
            "High",
            "Low",
            "High",
            "Low",
            "Low",
            "Low",
            "Low",
            "Medium",
            "Medium",
            "High",
            "High",
            "High",
            "Medium",
            "Low",
            "High",
            "Low",
            "Medium",
            "Low",
            "High",
            "High",
            "Low",
            "High",
            "High",
            "High",
            "Low",
            "Medium",
            "High",
            "Low",
            "Medium",
            "High",
            "Low",
            "High",
            "Medium",
            "Low",
            "Medium",
            "Medium",
            "High",
            "Low",
            "Medium",
            "Low",
            "Low",
            "Low",
            "High",
            "High",
            "High",
            "Medium",
            "High",
            "High",
            "High",
            "Medium",
            "High",
            "Low",
            "High",
            "Low",
            "Low",
            "High",
            "Low",
            "Medium",
            "Medium",
            "High",
            "High",
            "High",
            "Low",
            "Medium",
            "Medium",
            "Medium",
            "High",
            "Low",
            "High",
            "Low",
            "Low",
            "High",
            "Low",
            "Low",
            "Medium",
            "Medium",
            "Low",
            "Medium",
            "High",
            "Medium",
            "Low",
            "Medium",
            "Medium",
            "High",
            "High",
            "Medium",
            "High",
            "Medium",
            "High",
            "Medium",
            "Low",
            "Medium",
            "Medium",
            "Low",
            "Low",
            "Medium",
            "High",
            "Medium",
            "High",
            "High",
            "Medium",
            "High",
            "High",
            "Medium",
            "Low",
            "Low",
            "Low",
            "Medium",
            "High",
            "Low",
            "Low",
            "Low",
            "Medium",
            "Low",
            "Medium",
            "Low",
            "Low",
            "Medium"
           ]
          }
         ],
         "line": {
          "color": [
           2,
           0,
           0,
           2,
           0,
           1,
           1,
           2,
           2,
           1,
           0,
           2,
           2,
           0,
           1,
           2,
           1,
           0,
           1,
           2,
           2,
           2,
           1,
           0,
           2,
           2,
           1,
           0,
           0,
           1,
           2,
           0,
           2,
           2,
           0,
           0,
           1,
           1,
           2,
           0,
           1,
           2,
           1,
           0,
           2,
           0,
           0,
           2,
           2,
           0,
           1,
           0,
           2,
           0,
           1,
           2,
           0,
           1,
           2,
           0,
           0,
           2,
           2,
           2,
           1,
           2,
           1,
           1,
           1,
           1,
           0,
           0,
           1,
           0,
           0,
           1,
           0,
           2,
           2,
           2,
           1,
           1,
           0,
           0,
           1,
           1,
           0,
           2,
           2,
           2,
           0,
           0,
           1,
           2,
           0,
           0,
           0,
           1,
           2,
           0,
           1,
           0,
           1,
           0,
           1,
           2,
           2,
           2,
           0,
           1,
           2,
           1,
           2,
           0,
           1,
           2,
           2,
           1,
           2,
           1,
           2,
           1,
           0,
           1,
           1,
           0,
           0,
           1,
           0,
           0,
           1,
           2,
           0,
           1,
           2,
           1,
           1
          ],
          "colorscale": [
           [
            0,
            "#b0c4de"
           ],
           [
            0.5,
            "#3cb371"
           ],
           [
            1,
            "#e9967a"
           ]
          ]
         },
         "type": "parcats"
        }
       ],
       "layout": {
        "height": 600,
        "template": {
         "data": {
          "bar": [
           {
            "error_x": {
             "color": "#2a3f5f"
            },
            "error_y": {
             "color": "#2a3f5f"
            },
            "marker": {
             "line": {
              "color": "#E5ECF6",
              "width": 0.5
             },
             "pattern": {
              "fillmode": "overlay",
              "size": 10,
              "solidity": 0.2
             }
            },
            "type": "bar"
           }
          ],
          "barpolar": [
           {
            "marker": {
             "line": {
              "color": "#E5ECF6",
              "width": 0.5
             },
             "pattern": {
              "fillmode": "overlay",
              "size": 10,
              "solidity": 0.2
             }
            },
            "type": "barpolar"
           }
          ],
          "carpet": [
           {
            "aaxis": {
             "endlinecolor": "#2a3f5f",
             "gridcolor": "white",
             "linecolor": "white",
             "minorgridcolor": "white",
             "startlinecolor": "#2a3f5f"
            },
            "baxis": {
             "endlinecolor": "#2a3f5f",
             "gridcolor": "white",
             "linecolor": "white",
             "minorgridcolor": "white",
             "startlinecolor": "#2a3f5f"
            },
            "type": "carpet"
           }
          ],
          "choropleth": [
           {
            "colorbar": {
             "outlinewidth": 0,
             "ticks": ""
            },
            "type": "choropleth"
           }
          ],
          "contour": [
           {
            "colorbar": {
             "outlinewidth": 0,
             "ticks": ""
            },
            "colorscale": [
             [
              0,
              "#0d0887"
             ],
             [
              0.1111111111111111,
              "#46039f"
             ],
             [
              0.2222222222222222,
              "#7201a8"
             ],
             [
              0.3333333333333333,
              "#9c179e"
             ],
             [
              0.4444444444444444,
              "#bd3786"
             ],
             [
              0.5555555555555556,
              "#d8576b"
             ],
             [
              0.6666666666666666,
              "#ed7953"
             ],
             [
              0.7777777777777778,
              "#fb9f3a"
             ],
             [
              0.8888888888888888,
              "#fdca26"
             ],
             [
              1,
              "#f0f921"
             ]
            ],
            "type": "contour"
           }
          ],
          "contourcarpet": [
           {
            "colorbar": {
             "outlinewidth": 0,
             "ticks": ""
            },
            "type": "contourcarpet"
           }
          ],
          "heatmap": [
           {
            "colorbar": {
             "outlinewidth": 0,
             "ticks": ""
            },
            "colorscale": [
             [
              0,
              "#0d0887"
             ],
             [
              0.1111111111111111,
              "#46039f"
             ],
             [
              0.2222222222222222,
              "#7201a8"
             ],
             [
              0.3333333333333333,
              "#9c179e"
             ],
             [
              0.4444444444444444,
              "#bd3786"
             ],
             [
              0.5555555555555556,
              "#d8576b"
             ],
             [
              0.6666666666666666,
              "#ed7953"
             ],
             [
              0.7777777777777778,
              "#fb9f3a"
             ],
             [
              0.8888888888888888,
              "#fdca26"
             ],
             [
              1,
              "#f0f921"
             ]
            ],
            "type": "heatmap"
           }
          ],
          "heatmapgl": [
           {
            "colorbar": {
             "outlinewidth": 0,
             "ticks": ""
            },
            "colorscale": [
             [
              0,
              "#0d0887"
             ],
             [
              0.1111111111111111,
              "#46039f"
             ],
             [
              0.2222222222222222,
              "#7201a8"
             ],
             [
              0.3333333333333333,
              "#9c179e"
             ],
             [
              0.4444444444444444,
              "#bd3786"
             ],
             [
              0.5555555555555556,
              "#d8576b"
             ],
             [
              0.6666666666666666,
              "#ed7953"
             ],
             [
              0.7777777777777778,
              "#fb9f3a"
             ],
             [
              0.8888888888888888,
              "#fdca26"
             ],
             [
              1,
              "#f0f921"
             ]
            ],
            "type": "heatmapgl"
           }
          ],
          "histogram": [
           {
            "marker": {
             "pattern": {
              "fillmode": "overlay",
              "size": 10,
              "solidity": 0.2
             }
            },
            "type": "histogram"
           }
          ],
          "histogram2d": [
           {
            "colorbar": {
             "outlinewidth": 0,
             "ticks": ""
            },
            "colorscale": [
             [
              0,
              "#0d0887"
             ],
             [
              0.1111111111111111,
              "#46039f"
             ],
             [
              0.2222222222222222,
              "#7201a8"
             ],
             [
              0.3333333333333333,
              "#9c179e"
             ],
             [
              0.4444444444444444,
              "#bd3786"
             ],
             [
              0.5555555555555556,
              "#d8576b"
             ],
             [
              0.6666666666666666,
              "#ed7953"
             ],
             [
              0.7777777777777778,
              "#fb9f3a"
             ],
             [
              0.8888888888888888,
              "#fdca26"
             ],
             [
              1,
              "#f0f921"
             ]
            ],
            "type": "histogram2d"
           }
          ],
          "histogram2dcontour": [
           {
            "colorbar": {
             "outlinewidth": 0,
             "ticks": ""
            },
            "colorscale": [
             [
              0,
              "#0d0887"
             ],
             [
              0.1111111111111111,
              "#46039f"
             ],
             [
              0.2222222222222222,
              "#7201a8"
             ],
             [
              0.3333333333333333,
              "#9c179e"
             ],
             [
              0.4444444444444444,
              "#bd3786"
             ],
             [
              0.5555555555555556,
              "#d8576b"
             ],
             [
              0.6666666666666666,
              "#ed7953"
             ],
             [
              0.7777777777777778,
              "#fb9f3a"
             ],
             [
              0.8888888888888888,
              "#fdca26"
             ],
             [
              1,
              "#f0f921"
             ]
            ],
            "type": "histogram2dcontour"
           }
          ],
          "mesh3d": [
           {
            "colorbar": {
             "outlinewidth": 0,
             "ticks": ""
            },
            "type": "mesh3d"
           }
          ],
          "parcoords": [
           {
            "line": {
             "colorbar": {
              "outlinewidth": 0,
              "ticks": ""
             }
            },
            "type": "parcoords"
           }
          ],
          "pie": [
           {
            "automargin": true,
            "type": "pie"
           }
          ],
          "scatter": [
           {
            "fillpattern": {
             "fillmode": "overlay",
             "size": 10,
             "solidity": 0.2
            },
            "type": "scatter"
           }
          ],
          "scatter3d": [
           {
            "line": {
             "colorbar": {
              "outlinewidth": 0,
              "ticks": ""
             }
            },
            "marker": {
             "colorbar": {
              "outlinewidth": 0,
              "ticks": ""
             }
            },
            "type": "scatter3d"
           }
          ],
          "scattercarpet": [
           {
            "marker": {
             "colorbar": {
              "outlinewidth": 0,
              "ticks": ""
             }
            },
            "type": "scattercarpet"
           }
          ],
          "scattergeo": [
           {
            "marker": {
             "colorbar": {
              "outlinewidth": 0,
              "ticks": ""
             }
            },
            "type": "scattergeo"
           }
          ],
          "scattergl": [
           {
            "marker": {
             "colorbar": {
              "outlinewidth": 0,
              "ticks": ""
             }
            },
            "type": "scattergl"
           }
          ],
          "scattermapbox": [
           {
            "marker": {
             "colorbar": {
              "outlinewidth": 0,
              "ticks": ""
             }
            },
            "type": "scattermapbox"
           }
          ],
          "scatterpolar": [
           {
            "marker": {
             "colorbar": {
              "outlinewidth": 0,
              "ticks": ""
             }
            },
            "type": "scatterpolar"
           }
          ],
          "scatterpolargl": [
           {
            "marker": {
             "colorbar": {
              "outlinewidth": 0,
              "ticks": ""
             }
            },
            "type": "scatterpolargl"
           }
          ],
          "scatterternary": [
           {
            "marker": {
             "colorbar": {
              "outlinewidth": 0,
              "ticks": ""
             }
            },
            "type": "scatterternary"
           }
          ],
          "surface": [
           {
            "colorbar": {
             "outlinewidth": 0,
             "ticks": ""
            },
            "colorscale": [
             [
              0,
              "#0d0887"
             ],
             [
              0.1111111111111111,
              "#46039f"
             ],
             [
              0.2222222222222222,
              "#7201a8"
             ],
             [
              0.3333333333333333,
              "#9c179e"
             ],
             [
              0.4444444444444444,
              "#bd3786"
             ],
             [
              0.5555555555555556,
              "#d8576b"
             ],
             [
              0.6666666666666666,
              "#ed7953"
             ],
             [
              0.7777777777777778,
              "#fb9f3a"
             ],
             [
              0.8888888888888888,
              "#fdca26"
             ],
             [
              1,
              "#f0f921"
             ]
            ],
            "type": "surface"
           }
          ],
          "table": [
           {
            "cells": {
             "fill": {
              "color": "#EBF0F8"
             },
             "line": {
              "color": "white"
             }
            },
            "header": {
             "fill": {
              "color": "#C8D4E3"
             },
             "line": {
              "color": "white"
             }
            },
            "type": "table"
           }
          ]
         },
         "layout": {
          "annotationdefaults": {
           "arrowcolor": "#2a3f5f",
           "arrowhead": 0,
           "arrowwidth": 1
          },
          "autotypenumbers": "strict",
          "coloraxis": {
           "colorbar": {
            "outlinewidth": 0,
            "ticks": ""
           }
          },
          "colorscale": {
           "diverging": [
            [
             0,
             "#8e0152"
            ],
            [
             0.1,
             "#c51b7d"
            ],
            [
             0.2,
             "#de77ae"
            ],
            [
             0.3,
             "#f1b6da"
            ],
            [
             0.4,
             "#fde0ef"
            ],
            [
             0.5,
             "#f7f7f7"
            ],
            [
             0.6,
             "#e6f5d0"
            ],
            [
             0.7,
             "#b8e186"
            ],
            [
             0.8,
             "#7fbc41"
            ],
            [
             0.9,
             "#4d9221"
            ],
            [
             1,
             "#276419"
            ]
           ],
           "sequential": [
            [
             0,
             "#0d0887"
            ],
            [
             0.1111111111111111,
             "#46039f"
            ],
            [
             0.2222222222222222,
             "#7201a8"
            ],
            [
             0.3333333333333333,
             "#9c179e"
            ],
            [
             0.4444444444444444,
             "#bd3786"
            ],
            [
             0.5555555555555556,
             "#d8576b"
            ],
            [
             0.6666666666666666,
             "#ed7953"
            ],
            [
             0.7777777777777778,
             "#fb9f3a"
            ],
            [
             0.8888888888888888,
             "#fdca26"
            ],
            [
             1,
             "#f0f921"
            ]
           ],
           "sequentialminus": [
            [
             0,
             "#0d0887"
            ],
            [
             0.1111111111111111,
             "#46039f"
            ],
            [
             0.2222222222222222,
             "#7201a8"
            ],
            [
             0.3333333333333333,
             "#9c179e"
            ],
            [
             0.4444444444444444,
             "#bd3786"
            ],
            [
             0.5555555555555556,
             "#d8576b"
            ],
            [
             0.6666666666666666,
             "#ed7953"
            ],
            [
             0.7777777777777778,
             "#fb9f3a"
            ],
            [
             0.8888888888888888,
             "#fdca26"
            ],
            [
             1,
             "#f0f921"
            ]
           ]
          },
          "colorway": [
           "#636efa",
           "#EF553B",
           "#00cc96",
           "#ab63fa",
           "#FFA15A",
           "#19d3f3",
           "#FF6692",
           "#B6E880",
           "#FF97FF",
           "#FECB52"
          ],
          "font": {
           "color": "#2a3f5f"
          },
          "geo": {
           "bgcolor": "white",
           "lakecolor": "white",
           "landcolor": "#E5ECF6",
           "showlakes": true,
           "showland": true,
           "subunitcolor": "white"
          },
          "hoverlabel": {
           "align": "left"
          },
          "hovermode": "closest",
          "mapbox": {
           "style": "light"
          },
          "paper_bgcolor": "white",
          "plot_bgcolor": "#E5ECF6",
          "polar": {
           "angularaxis": {
            "gridcolor": "white",
            "linecolor": "white",
            "ticks": ""
           },
           "bgcolor": "#E5ECF6",
           "radialaxis": {
            "gridcolor": "white",
            "linecolor": "white",
            "ticks": ""
           }
          },
          "scene": {
           "xaxis": {
            "backgroundcolor": "#E5ECF6",
            "gridcolor": "white",
            "gridwidth": 2,
            "linecolor": "white",
            "showbackground": true,
            "ticks": "",
            "zerolinecolor": "white"
           },
           "yaxis": {
            "backgroundcolor": "#E5ECF6",
            "gridcolor": "white",
            "gridwidth": 2,
            "linecolor": "white",
            "showbackground": true,
            "ticks": "",
            "zerolinecolor": "white"
           },
           "zaxis": {
            "backgroundcolor": "#E5ECF6",
            "gridcolor": "white",
            "gridwidth": 2,
            "linecolor": "white",
            "showbackground": true,
            "ticks": "",
            "zerolinecolor": "white"
           }
          },
          "shapedefaults": {
           "line": {
            "color": "#2a3f5f"
           }
          },
          "ternary": {
           "aaxis": {
            "gridcolor": "white",
            "linecolor": "white",
            "ticks": ""
           },
           "baxis": {
            "gridcolor": "white",
            "linecolor": "white",
            "ticks": ""
           },
           "bgcolor": "#E5ECF6",
           "caxis": {
            "gridcolor": "white",
            "linecolor": "white",
            "ticks": ""
           }
          },
          "title": {
           "x": 0.05
          },
          "xaxis": {
           "automargin": true,
           "gridcolor": "white",
           "linecolor": "white",
           "ticks": "",
           "title": {
            "standoff": 15
           },
           "zerolinecolor": "white",
           "zerolinewidth": 2
          },
          "yaxis": {
           "automargin": true,
           "gridcolor": "white",
           "linecolor": "white",
           "ticks": "",
           "title": {
            "standoff": 15
           },
           "zerolinecolor": "white",
           "zerolinewidth": 2
          }
         }
        },
        "title": {
         "text": "Analysis of restaurant tips for all variables"
        }
       }
      }
     },
     "metadata": {},
     "output_type": "display_data"
    },
    {
     "name": "stdout",
     "output_type": "stream",
     "text": [
      "[ 40.2  82.   97.  100. ]\n",
      "40.2\n",
      "100.0\n"
     ]
    }
   ],
   "source": [
    "print(concat['Literacy(%)'])\n",
    "\n",
    "qcut_series_lead, qcut_intervals_lead = pd.qcut(concat['lead_time'], q=3, retbins=True, labels=['Low', 'Medium', 'High'])\n",
    "qcut_series_gdp, qcut_intervals_gdp = pd.qcut(concat['GDP($percapita)'], q=3, retbins=True, labels=['Low', 'Medium', 'High'])\n",
    "qcut_series_lit, qcut_intervals_lit = pd.qcut(concat['Literacy(%)'], q=3, retbins=True, labels=['Low', 'Medium', 'High'])\n",
    "qcut_series_phones, qcut_intervals_phones = pd.qcut(concat['Phones(per1000)'], q=3, retbins=True, labels=['Low', 'Medium', 'High'], duplicates='drop')\n",
    "qcut_series_ser, qcut_intervals_ser = pd.qcut(concat['Service'], q=3, retbins=True, labels=['Low', 'Medium', 'High'])\n",
    "\n",
    "lead_dim = go.parcats.Dimension(\n",
    "    values=qcut_series_lead,\n",
    "    label=\"Lead Time\",\n",
    "    categoryorder='array',\n",
    "    categoryarray=['Low', 'Medium', 'High']\n",
    ")\n",
    "gdp_dim = go.parcats.Dimension(\n",
    "    values=qcut_series_gdp,\n",
    "    categoryorder='array',\n",
    "    categoryarray=['Low', 'Medium', 'High'],\n",
    "    label=\"GDP\"\n",
    ")\n",
    "lit_dim = go.parcats.Dimension(\n",
    "    values=qcut_series_lit,\n",
    "    categoryorder='array',\n",
    "    categoryarray=['Low', 'Medium', 'High'],\n",
    "    label=\"Literacy\"\n",
    ")\n",
    "phones_dim = go.parcats.Dimension(\n",
    "    values=qcut_series_phones,\n",
    "    categoryorder='array',\n",
    "    categoryarray=['Low', 'Medium', 'High'],\n",
    "    label=\"Phones\"\n",
    ")\n",
    "ser_dim = go.parcats.Dimension(\n",
    "    values=qcut_series_ser,\n",
    "    categoryorder='array',\n",
    "    categoryarray=['Low', 'Medium', 'High'],\n",
    "    label=\"Service\"\n",
    ")\n",
    "\n",
    "# fig_air = go.Figure(data=[go.Parcats(\n",
    "#     dimensions=[month_dim, repeated_dim, weekend_dim, week_dim, adr_dim]\n",
    "# )], layout=go.Layout(title='Analysis of restaurant tips for all variables'))\n",
    "\n",
    "# fig_air.show()\n",
    "\n",
    "color = qcut_series_lead.astype('category').cat.codes\n",
    "colorscale = ['#b0c4de', '#3cb371', '#e9967a']\n",
    "\n",
    "fig = go.Figure(go.Parcats(\n",
    "    dimensions=[lit_dim, gdp_dim, lead_dim, phones_dim, ser_dim], line={'color': color, 'colorscale': colorscale}\n",
    "), layout=go.Layout(title='Analysis of restaurant tips for all variables', height=600))\n",
    "\n",
    "fig.show()\n",
    "print(qcut_intervals_lit)\n",
    "print(min(concat['Literacy(%)']))\n",
    "print(max(concat['Literacy(%)']))"
   ]
  },
  {
   "cell_type": "code",
   "execution_count": null,
   "metadata": {},
   "outputs": [
    {
     "data": {
      "application/vnd.plotly.v1+json": {
       "config": {
        "plotlyServerURL": "https://plot.ly"
       },
       "data": [
        {
         "hovertemplate": "Region=LATINAMER.&CARIB<br>lead_time=%{x}<br>Infantmortality(per1000births)=%{y}<extra></extra>",
         "legendgroup": "LATINAMER.&CARIB",
         "marker": {
          "color": "#636efa",
          "symbol": "circle"
         },
         "mode": "markers",
         "name": "LATINAMER.&CARIB",
         "orientation": "v",
         "showlegend": true,
         "type": "scatter",
         "x": [
          126,
          0,
          66.84579439252336,
          17.1,
          83.29001798561151,
          192,
          53.6,
          62.478873239436616,
          13.5,
          124,
          28.703703703703702,
          103,
          5.25,
          180,
          12,
          80,
          47.90588235294118,
          21,
          58.22222222222222,
          26.724137931034484,
          35.5,
          54.2,
          100.15625,
          54.76923076923077
         ],
         "xaxis": "x",
         "y": [
          5.89,
          21.03,
          15.18,
          53.11,
          29.61,
          12.5,
          8.8,
          20.97,
          6.33,
          14.15,
          23.66,
          8.6,
          35.93,
          33.26,
          29.32,
          12.36,
          20.91,
          29.11,
          20.47,
          31.94,
          25.63,
          23.57,
          11.95,
          22.2
         ],
         "yaxis": "y"
        },
        {
         "hovertemplate": "Region=SUB-SAHARANAFRICA<br>lead_time=%{x}<br>Infantmortality(per1000births)=%{y}<extra></extra>",
         "legendgroup": "SUB-SAHARANAFRICA",
         "marker": {
          "color": "#EF553B",
          "symbol": "circle"
         },
         "mode": "markers",
         "name": "SUB-SAHARANAFRICA",
         "orientation": "v",
         "showlegend": true,
         "type": "scatter",
         "x": [
          23.096685082872927,
          26,
          274,
          91,
          87.1,
          22.5,
          0,
          32.666666666666664,
          47.25,
          42.25,
          40.888888888888886,
          64,
          0,
          0,
          94.77611940298507,
          148,
          43,
          1,
          208,
          44,
          30.441176470588236,
          102,
          6,
          55.72727272727273,
          74,
          62,
          26.2,
          18.5,
          68.5,
          83
         ],
         "xaxis": "x",
         "y": [
          191.19,
          69.29,
          85,
          54.58,
          68.26,
          74.93,
          104.13,
          95.32,
          53.64,
          51.43,
          107.17,
          61.47,
          76.83,
          116.79,
          130.79,
          70.89,
          15.03,
          103.32,
          62.4,
          48.98,
          98.8,
          91.23,
          62.5,
          55.51,
          15.53,
          66.61,
          98.54,
          67.83,
          88.29,
          67.69
         ],
         "yaxis": "y"
        },
        {
         "hovertemplate": "Region=EASTERNEUROPE<br>lead_time=%{x}<br>Infantmortality(per1000births)=%{y}<extra></extra>",
         "legendgroup": "EASTERNEUROPE",
         "marker": {
          "color": "#00cc96",
          "symbol": "circle"
         },
         "mode": "markers",
         "name": "EASTERNEUROPE",
         "orientation": "v",
         "showlegend": true,
         "type": "scatter",
         "x": [
          103.41666666666667,
          73.25333333333333,
          71.12,
          98.2304347826087,
          90.7442872687704,
          108.154,
          142.26732673267327,
          137.3230769230769,
          64
         ],
         "xaxis": "x",
         "y": [
          21.52,
          20.55,
          6.84,
          8.57,
          8.51,
          26.43,
          12.89,
          7.41,
          4.45
         ],
         "yaxis": "y"
        },
        {
         "hovertemplate": "Region=WESTERNEUROPE<br>lead_time=%{x}<br>Infantmortality(per1000births)=%{y}<extra></extra>",
         "legendgroup": "WESTERNEUROPE",
         "marker": {
          "color": "#ab63fa",
          "symbol": "circle"
         },
         "mode": "markers",
         "name": "WESTERNEUROPE",
         "orientation": "v",
         "showlegend": true,
         "type": "scatter",
         "x": [
          47,
          117.7403008709422,
          99.66737830913749,
          91.07167630057803,
          137.36764100452862,
          113.13103448275862,
          54.851540616246496,
          67.21252796420582,
          82.32213154104657,
          31.333333333333332,
          117.27777777777777,
          69.0703125,
          120.44651851851852,
          155.3859649122807,
          90.66489644184811,
          123.875,
          20,
          97.70731707317073,
          36.25,
          102.77777777777777,
          80.57699619771863,
          122.74135090609555,
          115.56947931673184,
          106.4033203125
         ],
         "xaxis": "x",
         "y": [
          4.05,
          4.66,
          4.68,
          4.39,
          4.16,
          4.56,
          4.42,
          3.57,
          4.26,
          4.71,
          5.13,
          5.53,
          5.39,
          3.31,
          5.94,
          5.24,
          4.7,
          4.81,
          5.43,
          3.89,
          5.04,
          3.7,
          5.05,
          2.77
         ],
         "yaxis": "y"
        },
        {
         "hovertemplate": "Region=C.W.OFIND.STATES<br>lead_time=%{x}<br>Infantmortality(per1000births)=%{y}<extra></extra>",
         "legendgroup": "C.W.OFIND.STATES",
         "marker": {
          "color": "#FFA15A",
          "symbol": "circle"
         },
         "mode": "markers",
         "name": "C.W.OFIND.STATES",
         "orientation": "v",
         "showlegend": true,
         "type": "scatter",
         "x": [
          56.625,
          70.17647058823529,
          78.42307692307692,
          97.68181818181819,
          60.578947368421055,
          80.22310126582279,
          44,
          72.69117647058823,
          14.75
         ],
         "xaxis": "x",
         "y": [
          23.28,
          81.74,
          13.37,
          18.59,
          29.21,
          15.39,
          110.76,
          20.34,
          71.1
         ],
         "yaxis": "y"
        },
        {
         "hovertemplate": "Region=OCEANIA<br>lead_time=%{x}<br>Infantmortality(per1000births)=%{y}<extra></extra>",
         "legendgroup": "OCEANIA",
         "marker": {
          "color": "#19d3f3",
          "symbol": "circle"
         },
         "mode": "markers",
         "name": "OCEANIA",
         "orientation": "v",
         "showlegend": true,
         "type": "scatter",
         "x": [
          125.36854460093896,
          322,
          34,
          169
         ],
         "xaxis": "x",
         "y": [
          4.69,
          12.62,
          48.52,
          14.84
         ],
         "yaxis": "y"
        },
        {
         "hovertemplate": "Region=ASIA(EX.NEAREAST)<br>lead_time=%{x}<br>Infantmortality(per1000births)=%{y}<extra></extra>",
         "legendgroup": "ASIA(EX.NEAREAST)",
         "marker": {
          "color": "#FF6692",
          "symbol": "circle"
         },
         "mode": "markers",
         "name": "ASIA(EX.NEAREAST)",
         "orientation": "v",
         "showlegend": true,
         "type": "scatter",
         "x": [
          28.083333333333332,
          42.74374374374374,
          118.85691946833464,
          31.2,
          48.89473684210526,
          42.42168674698795,
          55.09137055837564,
          30,
          2.5,
          64.5,
          73.75,
          76.32142857142857,
          3,
          41.785714285714285,
          58.05,
          89.56410256410257,
          55.49152542372882,
          76.37254901960785,
          84.125
         ],
         "xaxis": "x",
         "y": [
          62.6,
          24.18,
          24.18,
          35.6,
          56.29,
          41.58,
          3.26,
          71.48,
          85.22,
          4.39,
          56.52,
          17.7,
          66.98,
          72.44,
          23.51,
          2.29,
          20.48,
          6.4,
          25.95
         ],
         "yaxis": "y"
        },
        {
         "hovertemplate": "Region=NEAREAST<br>lead_time=%{x}<br>Infantmortality(per1000births)=%{y}<extra></extra>",
         "legendgroup": "NEAREAST",
         "marker": {
          "color": "#B6E880",
          "symbol": "circle"
         },
         "mode": "markers",
         "name": "NEAREAST",
         "orientation": "v",
         "showlegend": true,
         "type": "scatter",
         "x": [
          173.8,
          77.33333333333333,
          19.214285714285715,
          88.94768310911809,
          82.0952380952381,
          50.375,
          47.16129032258065,
          78.33333333333333,
          62.333333333333336,
          9.333333333333334
         ],
         "xaxis": "x",
         "y": [
          17.27,
          7.18,
          50.25,
          7.03,
          17.35,
          9.95,
          24.52,
          19.51,
          18.61,
          29.53
         ],
         "yaxis": "y"
        },
        {
         "hovertemplate": "Region=NORTHERNAFRICA<br>lead_time=%{x}<br>Infantmortality(per1000births)=%{y}<extra></extra>",
         "legendgroup": "NORTHERNAFRICA",
         "marker": {
          "color": "#FF97FF",
          "symbol": "circle"
         },
         "mode": "markers",
         "name": "NORTHERNAFRICA",
         "orientation": "v",
         "showlegend": true,
         "type": "scatter",
         "x": [
          36.66990291262136,
          68.65625,
          49.625,
          52.034749034749034,
          44.07692307692308
         ],
         "xaxis": "x",
         "y": [
          31,
          32.59,
          24.6,
          41.62,
          24.77
         ],
         "yaxis": "y"
        },
        {
         "hovertemplate": "Region=BALTICS<br>lead_time=%{x}<br>Infantmortality(per1000births)=%{y}<extra></extra>",
         "legendgroup": "BALTICS",
         "marker": {
          "color": "#FECB52",
          "symbol": "circle"
         },
         "mode": "markers",
         "name": "BALTICS",
         "orientation": "v",
         "showlegend": true,
         "type": "scatter",
         "x": [
          98.89156626506023,
          94.93827160493827,
          93.2
         ],
         "xaxis": "x",
         "y": [
          7.87,
          6.89,
          9.55
         ],
         "yaxis": "y"
        },
        {
         "hovertemplate": "<b>OLS trendline</b><br>Infantmortality(per1000births) = -0.210099 * lead_time + 49.1104<br>R<sup>2</sup>=0.099695<br><br>lead_time=%{x}<br>Infantmortality(per1000births)=%{y} <b>(trend)</b><extra></extra>",
         "legendgroup": "Overall Trendline",
         "line": {
          "color": "black"
         },
         "mode": "lines",
         "name": "Overall Trendline",
         "showlegend": true,
         "type": "scatter",
         "x": [
          0,
          0,
          0,
          0,
          1,
          2.5,
          3,
          5.25,
          6,
          9.333333333333334,
          12,
          13.5,
          14.75,
          17.1,
          18.5,
          19.214285714285715,
          20,
          21,
          22.5,
          23.096685082872927,
          26,
          26.2,
          26.724137931034484,
          28.083333333333332,
          28.703703703703702,
          30,
          30.441176470588236,
          31.2,
          31.333333333333332,
          32.666666666666664,
          34,
          35.5,
          36.25,
          36.66990291262136,
          40.888888888888886,
          41.785714285714285,
          42.25,
          42.42168674698795,
          42.74374374374374,
          43,
          44,
          44,
          44.07692307692308,
          47,
          47.16129032258065,
          47.25,
          47.90588235294118,
          48.89473684210526,
          49.625,
          50.375,
          52.034749034749034,
          53.6,
          54.2,
          54.76923076923077,
          54.851540616246496,
          55.09137055837564,
          55.49152542372882,
          55.72727272727273,
          56.625,
          58.05,
          58.22222222222222,
          60.578947368421055,
          62,
          62.333333333333336,
          62.478873239436616,
          64,
          64,
          64.5,
          66.84579439252336,
          67.21252796420582,
          68.5,
          68.65625,
          69.0703125,
          70.17647058823529,
          71.12,
          72.69117647058823,
          73.25333333333333,
          73.75,
          74,
          76.32142857142857,
          76.37254901960785,
          77.33333333333333,
          78.33333333333333,
          78.42307692307692,
          80,
          80.22310126582279,
          80.57699619771863,
          82.0952380952381,
          82.32213154104657,
          83,
          83.29001798561151,
          84.125,
          87.1,
          88.94768310911809,
          89.56410256410257,
          90.66489644184811,
          90.7442872687704,
          91,
          91.07167630057803,
          93.2,
          94.77611940298507,
          94.93827160493827,
          97.68181818181819,
          97.70731707317073,
          98.2304347826087,
          98.89156626506023,
          99.66737830913749,
          100.15625,
          102,
          102.77777777777777,
          103,
          103.41666666666667,
          106.4033203125,
          108.154,
          113.13103448275862,
          115.56947931673184,
          117.27777777777777,
          117.7403008709422,
          118.85691946833464,
          120.44651851851852,
          122.74135090609555,
          123.875,
          124,
          125.36854460093896,
          126,
          137.3230769230769,
          137.36764100452862,
          142.26732673267327,
          148,
          155.3859649122807,
          169,
          173.8,
          180,
          192,
          208,
          274,
          322
         ],
         "xaxis": "x",
         "y": [
          49.11037844844071,
          49.11037844844071,
          49.11037844844071,
          49.11037844844071,
          48.90027964368198,
          48.58513143654389,
          48.480082034164525,
          48.007359723457384,
          47.84978561988834,
          47.149456270692575,
          46.58919279133596,
          46.27404458419787,
          46.011421078249455,
          45.51768888706644,
          45.22355056040422,
          45.073479985576554,
          44.908402353266126,
          44.6983035485074,
          44.3831553413693,
          44.257792518640336,
          43.64780952471375,
          43.605789763762004,
          43.495669010922946,
          43.2101036814664,
          43.079764608143854,
          42.80741430567883,
          42.71472365652057,
          42.55529573996836,
          42.52728256600053,
          42.247150826322226,
          41.967019086643916,
          41.65187087950582,
          41.494296775936775,
          41.40607567588032,
          40.51967176497267,
          40.33124982102238,
          40.2337039473844,
          40.19763276704932,
          40.12996897696674,
          40.07612984381535,
          39.86603103905662,
          39.86603103905662,
          39.84986959253672,
          39.235734624780434,
          39.20184772078709,
          39.18320992359075,
          39.04540982517547,
          38.83765267892179,
          38.68422526228878,
          38.52665115871973,
          38.1779398703195,
          37.84908251337282,
          37.72302323051758,
          37.60342852627031,
          37.58613532579243,
          37.53574734160574,
          37.451675282676646,
          37.40214505597698,
          37.21353362897767,
          36.914142832196475,
          36.8779591491547,
          36.38281401279348,
          36.084252553399494,
          36.01421961847992,
          35.983641858162926,
          35.664054943882036,
          35.664054943882036,
          35.55900554150267,
          35.06615694342379,
          34.989106658348405,
          34.718610322467754,
          34.685782384224204,
          34.598788347878795,
          34.36638585566636,
          34.16815145399988,
          33.83804915546426,
          33.719940670514596,
          33.615591597484425,
          33.56306689629474,
          33.07533752810484,
          33.064597183043645,
          32.86273754709899,
          32.65263874234026,
          32.63378372140036,
          32.30247406774237,
          32.25560075845284,
          32.18124785625136,
          31.86226704824789,
          31.81459700647594,
          31.672177653466182,
          31.61124522133067,
          31.43581649811261,
          30.810772553955395,
          30.42257654115679,
          30.29306755043452,
          30.061792072434457,
          30.045112154589276,
          29.991387215396347,
          29.976328110315375,
          29.529169844927143,
          29.19802904220294,
          29.163961058383578,
          28.587545201781204,
          28.58218791518536,
          28.47228150968432,
          28.333378575432885,
          28.170381392254825,
          28.067670034324234,
          27.68030036305033,
          27.516890181571316,
          27.4702015582916,
          27.382660389642126,
          26.755168028424244,
          26.387352318565107,
          25.34168332249454,
          24.82936897740667,
          24.47045751256974,
          24.373281963522583,
          24.138681730839064,
          23.80470887034982,
          23.322567328598264,
          23.084389008953124,
          23.058126658358283,
          22.770597073441994,
          22.637929048840824,
          20.258964121111216,
          20.24960126086304,
          19.220183145686445,
          18.01575534414878,
          16.463972944088688,
          13.603680444215463,
          12.595206181373563,
          11.29259359186944,
          8.771407934764696,
          5.4098270586250266,
          -8.45669405545111,
          -18.541436683870117
         ],
         "yaxis": "y"
        }
       ],
       "layout": {
        "legend": {
         "title": {
          "text": "Region"
         },
         "tracegroupgap": 0
        },
        "margin": {
         "t": 60
        },
        "template": {
         "data": {
          "bar": [
           {
            "error_x": {
             "color": "#2a3f5f"
            },
            "error_y": {
             "color": "#2a3f5f"
            },
            "marker": {
             "line": {
              "color": "#E5ECF6",
              "width": 0.5
             },
             "pattern": {
              "fillmode": "overlay",
              "size": 10,
              "solidity": 0.2
             }
            },
            "type": "bar"
           }
          ],
          "barpolar": [
           {
            "marker": {
             "line": {
              "color": "#E5ECF6",
              "width": 0.5
             },
             "pattern": {
              "fillmode": "overlay",
              "size": 10,
              "solidity": 0.2
             }
            },
            "type": "barpolar"
           }
          ],
          "carpet": [
           {
            "aaxis": {
             "endlinecolor": "#2a3f5f",
             "gridcolor": "white",
             "linecolor": "white",
             "minorgridcolor": "white",
             "startlinecolor": "#2a3f5f"
            },
            "baxis": {
             "endlinecolor": "#2a3f5f",
             "gridcolor": "white",
             "linecolor": "white",
             "minorgridcolor": "white",
             "startlinecolor": "#2a3f5f"
            },
            "type": "carpet"
           }
          ],
          "choropleth": [
           {
            "colorbar": {
             "outlinewidth": 0,
             "ticks": ""
            },
            "type": "choropleth"
           }
          ],
          "contour": [
           {
            "colorbar": {
             "outlinewidth": 0,
             "ticks": ""
            },
            "colorscale": [
             [
              0,
              "#0d0887"
             ],
             [
              0.1111111111111111,
              "#46039f"
             ],
             [
              0.2222222222222222,
              "#7201a8"
             ],
             [
              0.3333333333333333,
              "#9c179e"
             ],
             [
              0.4444444444444444,
              "#bd3786"
             ],
             [
              0.5555555555555556,
              "#d8576b"
             ],
             [
              0.6666666666666666,
              "#ed7953"
             ],
             [
              0.7777777777777778,
              "#fb9f3a"
             ],
             [
              0.8888888888888888,
              "#fdca26"
             ],
             [
              1,
              "#f0f921"
             ]
            ],
            "type": "contour"
           }
          ],
          "contourcarpet": [
           {
            "colorbar": {
             "outlinewidth": 0,
             "ticks": ""
            },
            "type": "contourcarpet"
           }
          ],
          "heatmap": [
           {
            "colorbar": {
             "outlinewidth": 0,
             "ticks": ""
            },
            "colorscale": [
             [
              0,
              "#0d0887"
             ],
             [
              0.1111111111111111,
              "#46039f"
             ],
             [
              0.2222222222222222,
              "#7201a8"
             ],
             [
              0.3333333333333333,
              "#9c179e"
             ],
             [
              0.4444444444444444,
              "#bd3786"
             ],
             [
              0.5555555555555556,
              "#d8576b"
             ],
             [
              0.6666666666666666,
              "#ed7953"
             ],
             [
              0.7777777777777778,
              "#fb9f3a"
             ],
             [
              0.8888888888888888,
              "#fdca26"
             ],
             [
              1,
              "#f0f921"
             ]
            ],
            "type": "heatmap"
           }
          ],
          "heatmapgl": [
           {
            "colorbar": {
             "outlinewidth": 0,
             "ticks": ""
            },
            "colorscale": [
             [
              0,
              "#0d0887"
             ],
             [
              0.1111111111111111,
              "#46039f"
             ],
             [
              0.2222222222222222,
              "#7201a8"
             ],
             [
              0.3333333333333333,
              "#9c179e"
             ],
             [
              0.4444444444444444,
              "#bd3786"
             ],
             [
              0.5555555555555556,
              "#d8576b"
             ],
             [
              0.6666666666666666,
              "#ed7953"
             ],
             [
              0.7777777777777778,
              "#fb9f3a"
             ],
             [
              0.8888888888888888,
              "#fdca26"
             ],
             [
              1,
              "#f0f921"
             ]
            ],
            "type": "heatmapgl"
           }
          ],
          "histogram": [
           {
            "marker": {
             "pattern": {
              "fillmode": "overlay",
              "size": 10,
              "solidity": 0.2
             }
            },
            "type": "histogram"
           }
          ],
          "histogram2d": [
           {
            "colorbar": {
             "outlinewidth": 0,
             "ticks": ""
            },
            "colorscale": [
             [
              0,
              "#0d0887"
             ],
             [
              0.1111111111111111,
              "#46039f"
             ],
             [
              0.2222222222222222,
              "#7201a8"
             ],
             [
              0.3333333333333333,
              "#9c179e"
             ],
             [
              0.4444444444444444,
              "#bd3786"
             ],
             [
              0.5555555555555556,
              "#d8576b"
             ],
             [
              0.6666666666666666,
              "#ed7953"
             ],
             [
              0.7777777777777778,
              "#fb9f3a"
             ],
             [
              0.8888888888888888,
              "#fdca26"
             ],
             [
              1,
              "#f0f921"
             ]
            ],
            "type": "histogram2d"
           }
          ],
          "histogram2dcontour": [
           {
            "colorbar": {
             "outlinewidth": 0,
             "ticks": ""
            },
            "colorscale": [
             [
              0,
              "#0d0887"
             ],
             [
              0.1111111111111111,
              "#46039f"
             ],
             [
              0.2222222222222222,
              "#7201a8"
             ],
             [
              0.3333333333333333,
              "#9c179e"
             ],
             [
              0.4444444444444444,
              "#bd3786"
             ],
             [
              0.5555555555555556,
              "#d8576b"
             ],
             [
              0.6666666666666666,
              "#ed7953"
             ],
             [
              0.7777777777777778,
              "#fb9f3a"
             ],
             [
              0.8888888888888888,
              "#fdca26"
             ],
             [
              1,
              "#f0f921"
             ]
            ],
            "type": "histogram2dcontour"
           }
          ],
          "mesh3d": [
           {
            "colorbar": {
             "outlinewidth": 0,
             "ticks": ""
            },
            "type": "mesh3d"
           }
          ],
          "parcoords": [
           {
            "line": {
             "colorbar": {
              "outlinewidth": 0,
              "ticks": ""
             }
            },
            "type": "parcoords"
           }
          ],
          "pie": [
           {
            "automargin": true,
            "type": "pie"
           }
          ],
          "scatter": [
           {
            "fillpattern": {
             "fillmode": "overlay",
             "size": 10,
             "solidity": 0.2
            },
            "type": "scatter"
           }
          ],
          "scatter3d": [
           {
            "line": {
             "colorbar": {
              "outlinewidth": 0,
              "ticks": ""
             }
            },
            "marker": {
             "colorbar": {
              "outlinewidth": 0,
              "ticks": ""
             }
            },
            "type": "scatter3d"
           }
          ],
          "scattercarpet": [
           {
            "marker": {
             "colorbar": {
              "outlinewidth": 0,
              "ticks": ""
             }
            },
            "type": "scattercarpet"
           }
          ],
          "scattergeo": [
           {
            "marker": {
             "colorbar": {
              "outlinewidth": 0,
              "ticks": ""
             }
            },
            "type": "scattergeo"
           }
          ],
          "scattergl": [
           {
            "marker": {
             "colorbar": {
              "outlinewidth": 0,
              "ticks": ""
             }
            },
            "type": "scattergl"
           }
          ],
          "scattermapbox": [
           {
            "marker": {
             "colorbar": {
              "outlinewidth": 0,
              "ticks": ""
             }
            },
            "type": "scattermapbox"
           }
          ],
          "scatterpolar": [
           {
            "marker": {
             "colorbar": {
              "outlinewidth": 0,
              "ticks": ""
             }
            },
            "type": "scatterpolar"
           }
          ],
          "scatterpolargl": [
           {
            "marker": {
             "colorbar": {
              "outlinewidth": 0,
              "ticks": ""
             }
            },
            "type": "scatterpolargl"
           }
          ],
          "scatterternary": [
           {
            "marker": {
             "colorbar": {
              "outlinewidth": 0,
              "ticks": ""
             }
            },
            "type": "scatterternary"
           }
          ],
          "surface": [
           {
            "colorbar": {
             "outlinewidth": 0,
             "ticks": ""
            },
            "colorscale": [
             [
              0,
              "#0d0887"
             ],
             [
              0.1111111111111111,
              "#46039f"
             ],
             [
              0.2222222222222222,
              "#7201a8"
             ],
             [
              0.3333333333333333,
              "#9c179e"
             ],
             [
              0.4444444444444444,
              "#bd3786"
             ],
             [
              0.5555555555555556,
              "#d8576b"
             ],
             [
              0.6666666666666666,
              "#ed7953"
             ],
             [
              0.7777777777777778,
              "#fb9f3a"
             ],
             [
              0.8888888888888888,
              "#fdca26"
             ],
             [
              1,
              "#f0f921"
             ]
            ],
            "type": "surface"
           }
          ],
          "table": [
           {
            "cells": {
             "fill": {
              "color": "#EBF0F8"
             },
             "line": {
              "color": "white"
             }
            },
            "header": {
             "fill": {
              "color": "#C8D4E3"
             },
             "line": {
              "color": "white"
             }
            },
            "type": "table"
           }
          ]
         },
         "layout": {
          "annotationdefaults": {
           "arrowcolor": "#2a3f5f",
           "arrowhead": 0,
           "arrowwidth": 1
          },
          "autotypenumbers": "strict",
          "coloraxis": {
           "colorbar": {
            "outlinewidth": 0,
            "ticks": ""
           }
          },
          "colorscale": {
           "diverging": [
            [
             0,
             "#8e0152"
            ],
            [
             0.1,
             "#c51b7d"
            ],
            [
             0.2,
             "#de77ae"
            ],
            [
             0.3,
             "#f1b6da"
            ],
            [
             0.4,
             "#fde0ef"
            ],
            [
             0.5,
             "#f7f7f7"
            ],
            [
             0.6,
             "#e6f5d0"
            ],
            [
             0.7,
             "#b8e186"
            ],
            [
             0.8,
             "#7fbc41"
            ],
            [
             0.9,
             "#4d9221"
            ],
            [
             1,
             "#276419"
            ]
           ],
           "sequential": [
            [
             0,
             "#0d0887"
            ],
            [
             0.1111111111111111,
             "#46039f"
            ],
            [
             0.2222222222222222,
             "#7201a8"
            ],
            [
             0.3333333333333333,
             "#9c179e"
            ],
            [
             0.4444444444444444,
             "#bd3786"
            ],
            [
             0.5555555555555556,
             "#d8576b"
            ],
            [
             0.6666666666666666,
             "#ed7953"
            ],
            [
             0.7777777777777778,
             "#fb9f3a"
            ],
            [
             0.8888888888888888,
             "#fdca26"
            ],
            [
             1,
             "#f0f921"
            ]
           ],
           "sequentialminus": [
            [
             0,
             "#0d0887"
            ],
            [
             0.1111111111111111,
             "#46039f"
            ],
            [
             0.2222222222222222,
             "#7201a8"
            ],
            [
             0.3333333333333333,
             "#9c179e"
            ],
            [
             0.4444444444444444,
             "#bd3786"
            ],
            [
             0.5555555555555556,
             "#d8576b"
            ],
            [
             0.6666666666666666,
             "#ed7953"
            ],
            [
             0.7777777777777778,
             "#fb9f3a"
            ],
            [
             0.8888888888888888,
             "#fdca26"
            ],
            [
             1,
             "#f0f921"
            ]
           ]
          },
          "colorway": [
           "#636efa",
           "#EF553B",
           "#00cc96",
           "#ab63fa",
           "#FFA15A",
           "#19d3f3",
           "#FF6692",
           "#B6E880",
           "#FF97FF",
           "#FECB52"
          ],
          "font": {
           "color": "#2a3f5f"
          },
          "geo": {
           "bgcolor": "white",
           "lakecolor": "white",
           "landcolor": "#E5ECF6",
           "showlakes": true,
           "showland": true,
           "subunitcolor": "white"
          },
          "hoverlabel": {
           "align": "left"
          },
          "hovermode": "closest",
          "mapbox": {
           "style": "light"
          },
          "paper_bgcolor": "white",
          "plot_bgcolor": "#E5ECF6",
          "polar": {
           "angularaxis": {
            "gridcolor": "white",
            "linecolor": "white",
            "ticks": ""
           },
           "bgcolor": "#E5ECF6",
           "radialaxis": {
            "gridcolor": "white",
            "linecolor": "white",
            "ticks": ""
           }
          },
          "scene": {
           "xaxis": {
            "backgroundcolor": "#E5ECF6",
            "gridcolor": "white",
            "gridwidth": 2,
            "linecolor": "white",
            "showbackground": true,
            "ticks": "",
            "zerolinecolor": "white"
           },
           "yaxis": {
            "backgroundcolor": "#E5ECF6",
            "gridcolor": "white",
            "gridwidth": 2,
            "linecolor": "white",
            "showbackground": true,
            "ticks": "",
            "zerolinecolor": "white"
           },
           "zaxis": {
            "backgroundcolor": "#E5ECF6",
            "gridcolor": "white",
            "gridwidth": 2,
            "linecolor": "white",
            "showbackground": true,
            "ticks": "",
            "zerolinecolor": "white"
           }
          },
          "shapedefaults": {
           "line": {
            "color": "#2a3f5f"
           }
          },
          "ternary": {
           "aaxis": {
            "gridcolor": "white",
            "linecolor": "white",
            "ticks": ""
           },
           "baxis": {
            "gridcolor": "white",
            "linecolor": "white",
            "ticks": ""
           },
           "bgcolor": "#E5ECF6",
           "caxis": {
            "gridcolor": "white",
            "linecolor": "white",
            "ticks": ""
           }
          },
          "title": {
           "x": 0.05
          },
          "xaxis": {
           "automargin": true,
           "gridcolor": "white",
           "linecolor": "white",
           "ticks": "",
           "title": {
            "standoff": 15
           },
           "zerolinecolor": "white",
           "zerolinewidth": 2
          },
          "yaxis": {
           "automargin": true,
           "gridcolor": "white",
           "linecolor": "white",
           "ticks": "",
           "title": {
            "standoff": 15
           },
           "zerolinecolor": "white",
           "zerolinewidth": 2
          }
         }
        },
        "xaxis": {
         "anchor": "y",
         "domain": [
          0,
          1
         ],
         "title": {
          "text": "lead_time"
         }
        },
        "yaxis": {
         "anchor": "x",
         "domain": [
          0,
          1
         ],
         "title": {
          "text": "Infantmortality(per1000births)"
         }
        }
       }
      }
     },
     "metadata": {},
     "output_type": "display_data"
    }
   ],
   "source": [
    "\n",
    "fig = px.scatter(concat, x=\"lead_time\", y=\"Infantmortality(per1000births)\", trendline=\"ols\", color='Region', trendline_scope=\"overall\", trendline_color_override=\"black\")\n",
    "fig.show()"
   ]
  },
  {
   "cell_type": "code",
   "execution_count": null,
   "metadata": {},
   "outputs": [],
   "source": []
  }
 ],
 "metadata": {
  "kernelspec": {
   "display_name": "Python 3",
   "language": "python",
   "name": "python3"
  },
  "language_info": {
   "codemirror_mode": {
    "name": "ipython",
    "version": 3
   },
   "file_extension": ".py",
   "mimetype": "text/x-python",
   "name": "python",
   "nbconvert_exporter": "python",
   "pygments_lexer": "ipython3",
   "version": "3.9.16"
  }
 },
 "nbformat": 4,
 "nbformat_minor": 2
}